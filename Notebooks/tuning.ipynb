{
  "cells": [
    {
      "cell_type": "markdown",
      "source": [
        "## Hyperparameter Tuning Notebook File"
      ],
      "metadata": {
        "id": "p56o-l53XE9x"
      }
    },
    {
      "cell_type": "markdown",
      "metadata": {
        "id": "TTQxPJapGs4b"
      },
      "source": [
        "## Cloning Project From GitHub Repository"
      ]
    },
    {
      "cell_type": "markdown",
      "source": [
        "To begin the hyperparmeter tuning process we need to clone the repository into the local Google Colab filesystem."
      ],
      "metadata": {
        "id": "-AqrPYzDXLPQ"
      }
    },
    {
      "cell_type": "code",
      "execution_count": null,
      "metadata": {
        "colab": {
          "base_uri": "https://localhost:8080/"
        },
        "id": "ZNOlk5h06Ult",
        "outputId": "2562e760-ed21-496f-afec-425183cfefe6"
      },
      "outputs": [
        {
          "output_type": "stream",
          "name": "stdout",
          "text": [
            "Cloning into 'Unlearning-MIA-Eval'...\n",
            "remote: Enumerating objects: 413, done.\u001b[K\n",
            "remote: Counting objects: 100% (47/47), done.\u001b[K\n",
            "remote: Compressing objects: 100% (33/33), done.\u001b[K\n",
            "remote: Total 413 (delta 28), reused 28 (delta 14), pack-reused 366 (from 1)\u001b[K\n",
            "Receiving objects: 100% (413/413), 249.40 MiB | 48.12 MiB/s, done.\n",
            "Resolving deltas: 100% (253/253), done.\n",
            "Updating files: 100% (20/20), done.\n",
            "Submodule 'Third_Party_Code/BadTeach' (https://github.com/aiden-dm/bad-teaching-unlearning) registered for path 'Third_Party_Code/BadTeach'\n",
            "Submodule 'Third_Party_Code/SCRUB' (https://github.com/aiden-dm/SCRUB) registered for path 'Third_Party_Code/SCRUB'\n",
            "Submodule 'Third_Party_Code/SSD' (https://github.com/aiden-dm/selective-synaptic-dampening) registered for path 'Third_Party_Code/SSD'\n",
            "Cloning into '/content/Unlearning-MIA-Eval/Third_Party_Code/BadTeach'...\n",
            "remote: Enumerating objects: 69, done.        \n",
            "remote: Counting objects: 100% (69/69), done.        \n",
            "remote: Compressing objects: 100% (64/64), done.        \n",
            "remote: Total 69 (delta 37), reused 12 (delta 4), pack-reused 0 (from 0)        \n",
            "Receiving objects: 100% (69/69), 24.48 KiB | 24.48 MiB/s, done.\n",
            "Resolving deltas: 100% (37/37), done.\n",
            "Cloning into '/content/Unlearning-MIA-Eval/Third_Party_Code/SCRUB'...\n",
            "remote: Enumerating objects: 110, done.        \n",
            "remote: Counting objects: 100% (110/110), done.        \n",
            "remote: Compressing objects: 100% (74/74), done.        \n",
            "remote: Total 110 (delta 41), reused 99 (delta 33), pack-reused 0 (from 0)        \n",
            "Receiving objects: 100% (110/110), 794.95 KiB | 6.11 MiB/s, done.\n",
            "Resolving deltas: 100% (41/41), done.\n",
            "Cloning into '/content/Unlearning-MIA-Eval/Third_Party_Code/SSD'...\n",
            "remote: Enumerating objects: 138, done.        \n",
            "remote: Counting objects: 100% (111/111), done.        \n",
            "remote: Compressing objects: 100% (59/59), done.        \n",
            "remote: Total 138 (delta 86), reused 63 (delta 52), pack-reused 27 (from 1)        \n",
            "Receiving objects: 100% (138/138), 50.44 KiB | 2.02 MiB/s, done.\n",
            "Resolving deltas: 100% (87/87), done.\n",
            "Submodule path 'Third_Party_Code/BadTeach': checked out 'c224be552189acc7e3fa7e64b2a7e63452120bf7'\n",
            "Submodule path 'Third_Party_Code/SCRUB': checked out '98ffb1196ffbec2665092598c13ad3b6ec3d095d'\n",
            "Submodule path 'Third_Party_Code/SSD': checked out 'ea39ca68128e9c1e98c5dcff9daa5990be328eca'\n"
          ]
        }
      ],
      "source": [
        "!git clone --recurse-submodules https://github.com/aiden-dm/Unlearning-MIA-Eval.git"
      ]
    },
    {
      "cell_type": "markdown",
      "source": [
        "This can be used to delete the local copy of the repository, in the case it needs to be changed or re-cloned."
      ],
      "metadata": {
        "id": "9FChj0dXXV91"
      }
    },
    {
      "cell_type": "code",
      "execution_count": null,
      "metadata": {
        "id": "6_3jXm_M9mdM"
      },
      "outputs": [],
      "source": [
        "!rm -rf /content/Unlearning-MIA-Eval"
      ]
    },
    {
      "cell_type": "markdown",
      "source": [
        "You need to run the following code to add the /content/Unlearning-MIA-Eval/ directory to Python's module search path so you can import local files from the unlearning framework as if they were installed packages."
      ],
      "metadata": {
        "id": "Jt5ujR4UXbDa"
      }
    },
    {
      "cell_type": "code",
      "execution_count": null,
      "metadata": {
        "id": "CfQTBW5r4I_M"
      },
      "outputs": [],
      "source": [
        "import sys\n",
        "\n",
        "# Adding the local files to the system path\n",
        "sys.path.append('/content/Unlearning-MIA-Eval/')"
      ]
    },
    {
      "cell_type": "markdown",
      "metadata": {
        "id": "lTg0mfXFNzjE"
      },
      "source": [
        "## Getting Data Loaders"
      ]
    },
    {
      "cell_type": "markdown",
      "source": [
        "The following code fetches all of the dataloaders that will be used. The dataset is CIFAR-10."
      ],
      "metadata": {
        "id": "rOV_kjsHXiPz"
      }
    },
    {
      "cell_type": "code",
      "execution_count": null,
      "metadata": {
        "id": "0hz_DPBJN54l",
        "colab": {
          "base_uri": "https://localhost:8080/"
        },
        "outputId": "4c6e062a-1114-45e1-a8ab-fc1206364d63"
      },
      "outputs": [
        {
          "output_type": "stream",
          "name": "stderr",
          "text": [
            "100%|██████████| 170M/170M [00:03<00:00, 47.5MB/s]\n"
          ]
        }
      ],
      "source": [
        "from Final_Structure.datasets import get_loaders\n",
        "\n",
        "# Getting all the loaders\n",
        "ROOT_PATH = '/content/Unlearning-MIA-Eval/Final_Structure/data'\n",
        "FORGET_CLASSES = [1]\n",
        "SEED = 2\n",
        "DATASET = \"cifar10\"\n",
        "loaders = get_loaders(root=ROOT_PATH, dataset=DATASET, forget_classes=FORGET_CLASSES, seed=SEED)\n",
        "\n",
        "# Extracting the loaders we need\n",
        "train_loader = loaders[0]\n",
        "valid_loader = loaders[1]\n",
        "test_loader = loaders[2]\n",
        "train_forget_loader = loaders[3]\n",
        "train_retain_loader = loaders[4]\n",
        "valid_forget_loader = loaders[5]\n",
        "valid_retain_loader = loaders[6]\n",
        "test_forget_loader = loaders[7]\n",
        "test_retain_loader = loaders[8]"
      ]
    },
    {
      "cell_type": "markdown",
      "source": [
        "## Training and Unlearning"
      ],
      "metadata": {
        "id": "FYQ5vTF_gvzt"
      }
    },
    {
      "cell_type": "markdown",
      "metadata": {
        "id": "IIaCXYb8u-Nq"
      },
      "source": [
        "### Training ResNet18 on Full Training Set"
      ]
    },
    {
      "cell_type": "markdown",
      "source": [
        "The following code trains a ResNet18 model on two datasets:\n",
        "\n",
        "1. Full train dataset\n",
        "2. Retain dataset (the dataset that does not contain the classes we intend to forget)"
      ],
      "metadata": {
        "id": "Eaaci1cyX4iS"
      }
    },
    {
      "cell_type": "code",
      "execution_count": null,
      "metadata": {
        "colab": {
          "base_uri": "https://localhost:8080/"
        },
        "id": "hxJpTdLZKsC8",
        "outputId": "65aa04cb-cce6-4212-94d3-01151e4f562c"
      },
      "outputs": [
        {
          "output_type": "stream",
          "name": "stdout",
          "text": [
            "Starting Epoch [1/45]...\n"
          ]
        },
        {
          "output_type": "stream",
          "name": "stderr",
          "text": [
            "/usr/local/lib/python3.11/dist-packages/torch/optim/lr_scheduler.py:62: UserWarning: The verbose parameter is deprecated. Please use get_last_lr() to access the learning rate.\n",
            "  warnings.warn(\n"
          ]
        },
        {
          "output_type": "stream",
          "name": "stdout",
          "text": [
            "Epoch [1/45], Loss: 1.5431, Accuracy: 0.4420\n",
            "Starting Epoch [2/45]...\n",
            "Epoch [2/45], Loss: 1.2214, Accuracy: 0.5620\n",
            "Starting Epoch [3/45]...\n",
            "Epoch [3/45], Loss: 1.0631, Accuracy: 0.6193\n",
            "Starting Epoch [4/45]...\n",
            "Epoch [4/45], Loss: 0.9617, Accuracy: 0.6594\n",
            "Starting Epoch [5/45]...\n",
            "Epoch [5/45], Loss: 0.9008, Accuracy: 0.6847\n",
            "Starting Epoch [6/45]...\n",
            "Epoch [6/45], Loss: 0.8433, Accuracy: 0.7004\n",
            "Starting Epoch [7/45]...\n",
            "Epoch [7/45], Loss: 0.7830, Accuracy: 0.7246\n",
            "Starting Epoch [8/45]...\n",
            "Epoch [8/45], Loss: 0.7451, Accuracy: 0.7370\n",
            "Starting Epoch [9/45]...\n",
            "Epoch [9/45], Loss: 0.7113, Accuracy: 0.7494\n",
            "Starting Epoch [10/45]...\n",
            "Epoch [10/45], Loss: 0.6783, Accuracy: 0.7593\n",
            "Starting Epoch [11/45]...\n",
            "Epoch [11/45], Loss: 0.6493, Accuracy: 0.7720\n",
            "Starting Epoch [12/45]...\n",
            "Epoch [12/45], Loss: 0.6260, Accuracy: 0.7831\n",
            "Starting Epoch [13/45]...\n",
            "Epoch [13/45], Loss: 0.6036, Accuracy: 0.7880\n",
            "Starting Epoch [14/45]...\n",
            "Epoch [14/45], Loss: 0.5730, Accuracy: 0.7992\n",
            "Starting Epoch [15/45]...\n",
            "Epoch [15/45], Loss: 0.5550, Accuracy: 0.8056\n",
            "Starting Epoch [16/45]...\n",
            "Epoch [16/45], Loss: 0.5409, Accuracy: 0.8083\n",
            "Starting Epoch [17/45]...\n",
            "Epoch [17/45], Loss: 0.5325, Accuracy: 0.8141\n",
            "Starting Epoch [18/45]...\n",
            "Epoch [18/45], Loss: 0.5118, Accuracy: 0.8211\n",
            "Starting Epoch [19/45]...\n",
            "Epoch [19/45], Loss: 0.4892, Accuracy: 0.8294\n",
            "Starting Epoch [20/45]...\n",
            "Epoch [20/45], Loss: 0.4789, Accuracy: 0.8327\n",
            "Starting Epoch [21/45]...\n",
            "Epoch [21/45], Loss: 0.4584, Accuracy: 0.8385\n",
            "Starting Epoch [22/45]...\n",
            "Epoch [22/45], Loss: 0.4468, Accuracy: 0.8422\n",
            "Starting Epoch [23/45]...\n",
            "Epoch [23/45], Loss: 0.4412, Accuracy: 0.8453\n",
            "Starting Epoch [24/45]...\n",
            "Epoch [24/45], Loss: 0.4229, Accuracy: 0.8503\n",
            "Starting Epoch [25/45]...\n",
            "Epoch [25/45], Loss: 0.4126, Accuracy: 0.8524\n",
            "Starting Epoch [26/45]...\n",
            "Epoch [26/45], Loss: 0.4025, Accuracy: 0.8597\n",
            "Starting Epoch [27/45]...\n",
            "Epoch [27/45], Loss: 0.3967, Accuracy: 0.8595\n",
            "Starting Epoch [28/45]...\n",
            "Epoch [28/45], Loss: 0.3797, Accuracy: 0.8662\n",
            "Starting Epoch [29/45]...\n",
            "Epoch [29/45], Loss: 0.3676, Accuracy: 0.8687\n",
            "Starting Epoch [30/45]...\n",
            "Epoch [30/45], Loss: 0.3646, Accuracy: 0.8716\n",
            "Starting Epoch [31/45]...\n",
            "Epoch [31/45], Loss: 0.3546, Accuracy: 0.8720\n",
            "Starting Epoch [32/45]...\n",
            "Epoch [32/45], Loss: 0.3394, Accuracy: 0.8787\n",
            "Starting Epoch [33/45]...\n",
            "Epoch [33/45], Loss: 0.3298, Accuracy: 0.8817\n",
            "Starting Epoch [34/45]...\n",
            "Epoch [34/45], Loss: 0.3307, Accuracy: 0.8820\n",
            "Starting Epoch [35/45]...\n",
            "Epoch [35/45], Loss: 0.3182, Accuracy: 0.8869\n",
            "Starting Epoch [36/45]...\n",
            "Epoch [36/45], Loss: 0.3167, Accuracy: 0.8857\n",
            "Starting Epoch [37/45]...\n",
            "Epoch [37/45], Loss: 0.3013, Accuracy: 0.8932\n",
            "Starting Epoch [38/45]...\n",
            "Epoch [38/45], Loss: 0.2952, Accuracy: 0.8944\n",
            "Starting Epoch [39/45]...\n",
            "Epoch [39/45], Loss: 0.2905, Accuracy: 0.8982\n",
            "Starting Epoch [40/45]...\n",
            "Epoch [40/45], Loss: 0.2879, Accuracy: 0.8966\n",
            "Starting Epoch [41/45]...\n",
            "Epoch [41/45], Loss: 0.2815, Accuracy: 0.9009\n",
            "Starting Epoch [42/45]...\n",
            "Epoch [42/45], Loss: 0.2721, Accuracy: 0.9039\n",
            "Starting Epoch [43/45]...\n",
            "Epoch [43/45], Loss: 0.2654, Accuracy: 0.9047\n",
            "Starting Epoch [44/45]...\n",
            "Epoch [44/45], Loss: 0.2582, Accuracy: 0.9086\n",
            "Starting Epoch [45/45]...\n",
            "Epoch [45/45], Loss: 0.2487, Accuracy: 0.9110\n"
          ]
        }
      ],
      "source": [
        "import torch\n",
        "import torch.nn as nn\n",
        "from Final_Structure.training import get_resnet_model, train\n",
        "\n",
        "# Changing number of epochs depending on dataset\n",
        "if DATASET == \"cifar10\":\n",
        "    epochs = 45\n",
        "else:\n",
        "    epochs = 65\n",
        "\n",
        "# Defining parameters for training\n",
        "model = get_resnet_model(dataset=DATASET)\n",
        "optimizer = torch.optim.Adam(model.parameters(), lr=0.001)\n",
        "criterion = nn.CrossEntropyLoss()\n",
        "scheduler = torch.optim.lr_scheduler.ReduceLROnPlateau(\n",
        "    optimizer, mode='min', factor=0.1, patience=5, verbose=True\n",
        ")\n",
        "save_path = \"/content/Unlearning-MIA-Eval/resnet_full.pt\"\n",
        "\n",
        "# Training the model\n",
        "train(model, train_loader, criterion, optimizer, epochs=epochs, scheduler=scheduler, save_path=save_path)"
      ]
    },
    {
      "cell_type": "markdown",
      "source": [
        "### Training ResNet18 on Train Retain Set"
      ],
      "metadata": {
        "id": "oqFAq2pu1_G8"
      }
    },
    {
      "cell_type": "code",
      "source": [
        "import torch\n",
        "import torch.nn as nn\n",
        "from Final_Structure.training import get_resnet_model, train\n",
        "\n",
        "# Changing number of epochs depending on dataset\n",
        "if DATASET == \"cifar10\":\n",
        "    epochs = 45\n",
        "else:\n",
        "    epochs = 65\n",
        "\n",
        "# Defining parameters for training\n",
        "model = get_resnet_model(dataset=DATASET)\n",
        "optimizer = torch.optim.Adam(model.parameters(), lr=0.001)\n",
        "criterion = nn.CrossEntropyLoss()\n",
        "scheduler = torch.optim.lr_scheduler.ReduceLROnPlateau(\n",
        "    optimizer, mode='min', factor=0.1, patience=5, verbose=True\n",
        ")\n",
        "save_path = \"/content/Unlearning-MIA-Eval/retain_model.pt\"\n",
        "\n",
        "# Training the model\n",
        "train(model, train_retain_loader, criterion, optimizer, epochs=epochs, scheduler=scheduler, save_path=save_path)"
      ],
      "metadata": {
        "colab": {
          "base_uri": "https://localhost:8080/"
        },
        "id": "jUfHmCxU2EEj",
        "outputId": "303d2b8d-34ab-41d8-9aad-24f3fd41d1d8"
      },
      "execution_count": null,
      "outputs": [
        {
          "output_type": "stream",
          "name": "stdout",
          "text": [
            "Starting Epoch [1/45]...\n",
            "Epoch [1/45], Loss: 1.4723, Accuracy: 0.4592\n",
            "Starting Epoch [2/45]...\n",
            "Epoch [2/45], Loss: 1.1435, Accuracy: 0.5881\n",
            "Starting Epoch [3/45]...\n",
            "Epoch [3/45], Loss: 0.9972, Accuracy: 0.6413\n",
            "Starting Epoch [4/45]...\n",
            "Epoch [4/45], Loss: 0.9073, Accuracy: 0.6752\n",
            "Starting Epoch [5/45]...\n",
            "Epoch [5/45], Loss: 0.8391, Accuracy: 0.7012\n",
            "Starting Epoch [6/45]...\n",
            "Epoch [6/45], Loss: 0.7788, Accuracy: 0.7244\n",
            "Starting Epoch [7/45]...\n",
            "Epoch [7/45], Loss: 0.7317, Accuracy: 0.7414\n",
            "Starting Epoch [8/45]...\n",
            "Epoch [8/45], Loss: 0.6972, Accuracy: 0.7546\n",
            "Starting Epoch [9/45]...\n",
            "Epoch [9/45], Loss: 0.6696, Accuracy: 0.7626\n",
            "Starting Epoch [10/45]...\n",
            "Epoch [10/45], Loss: 0.6338, Accuracy: 0.7756\n",
            "Starting Epoch [11/45]...\n",
            "Epoch [11/45], Loss: 0.6094, Accuracy: 0.7861\n",
            "Starting Epoch [12/45]...\n",
            "Epoch [12/45], Loss: 0.5829, Accuracy: 0.7953\n",
            "Starting Epoch [13/45]...\n",
            "Epoch [13/45], Loss: 0.5593, Accuracy: 0.8021\n",
            "Starting Epoch [14/45]...\n",
            "Epoch [14/45], Loss: 0.5441, Accuracy: 0.8069\n",
            "Starting Epoch [15/45]...\n",
            "Epoch [15/45], Loss: 0.5198, Accuracy: 0.8176\n",
            "Starting Epoch [16/45]...\n",
            "Epoch [16/45], Loss: 0.5112, Accuracy: 0.8186\n",
            "Starting Epoch [17/45]...\n",
            "Epoch [17/45], Loss: 0.4924, Accuracy: 0.8273\n",
            "Starting Epoch [18/45]...\n",
            "Epoch [18/45], Loss: 0.4723, Accuracy: 0.8313\n",
            "Starting Epoch [19/45]...\n",
            "Epoch [19/45], Loss: 0.4610, Accuracy: 0.8388\n",
            "Starting Epoch [20/45]...\n",
            "Epoch [20/45], Loss: 0.4404, Accuracy: 0.8442\n",
            "Starting Epoch [21/45]...\n",
            "Epoch [21/45], Loss: 0.4376, Accuracy: 0.8448\n",
            "Starting Epoch [22/45]...\n",
            "Epoch [22/45], Loss: 0.4194, Accuracy: 0.8510\n",
            "Starting Epoch [23/45]...\n",
            "Epoch [23/45], Loss: 0.4065, Accuracy: 0.8563\n",
            "Starting Epoch [24/45]...\n",
            "Epoch [24/45], Loss: 0.3975, Accuracy: 0.8593\n",
            "Starting Epoch [25/45]...\n",
            "Epoch [25/45], Loss: 0.3849, Accuracy: 0.8652\n",
            "Starting Epoch [26/45]...\n",
            "Epoch [26/45], Loss: 0.3726, Accuracy: 0.8677\n",
            "Starting Epoch [27/45]...\n",
            "Epoch [27/45], Loss: 0.3669, Accuracy: 0.8697\n",
            "Starting Epoch [28/45]...\n",
            "Epoch [28/45], Loss: 0.3510, Accuracy: 0.8740\n",
            "Starting Epoch [29/45]...\n",
            "Epoch [29/45], Loss: 0.3543, Accuracy: 0.8752\n",
            "Starting Epoch [30/45]...\n",
            "Epoch [30/45], Loss: 0.3416, Accuracy: 0.8773\n",
            "Starting Epoch [31/45]...\n",
            "Epoch [31/45], Loss: 0.3349, Accuracy: 0.8793\n",
            "Starting Epoch [32/45]...\n",
            "Epoch [32/45], Loss: 0.3239, Accuracy: 0.8835\n",
            "Starting Epoch [33/45]...\n",
            "Epoch [33/45], Loss: 0.3152, Accuracy: 0.8874\n",
            "Starting Epoch [34/45]...\n",
            "Epoch [34/45], Loss: 0.3031, Accuracy: 0.8914\n",
            "Starting Epoch [35/45]...\n",
            "Epoch [35/45], Loss: 0.2987, Accuracy: 0.8922\n",
            "Starting Epoch [36/45]...\n",
            "Epoch [36/45], Loss: 0.2931, Accuracy: 0.8931\n",
            "Starting Epoch [37/45]...\n",
            "Epoch [37/45], Loss: 0.2830, Accuracy: 0.8995\n",
            "Starting Epoch [38/45]...\n",
            "Epoch [38/45], Loss: 0.2771, Accuracy: 0.9022\n",
            "Starting Epoch [39/45]...\n",
            "Epoch [39/45], Loss: 0.2681, Accuracy: 0.9036\n",
            "Starting Epoch [40/45]...\n",
            "Epoch [40/45], Loss: 0.2632, Accuracy: 0.9060\n",
            "Starting Epoch [41/45]...\n",
            "Epoch [41/45], Loss: 0.2565, Accuracy: 0.9065\n",
            "Starting Epoch [42/45]...\n",
            "Epoch [42/45], Loss: 0.2538, Accuracy: 0.9102\n",
            "Starting Epoch [43/45]...\n",
            "Epoch [43/45], Loss: 0.2449, Accuracy: 0.9135\n",
            "Starting Epoch [44/45]...\n",
            "Epoch [44/45], Loss: 0.2442, Accuracy: 0.9131\n",
            "Starting Epoch [45/45]...\n",
            "Epoch [45/45], Loss: 0.2393, Accuracy: 0.9149\n"
          ]
        }
      ]
    },
    {
      "cell_type": "markdown",
      "metadata": {
        "id": "TvXwi_Ruz9Cs"
      },
      "source": [
        "### Performing SCRUB Unlearning"
      ]
    },
    {
      "cell_type": "markdown",
      "source": [
        "The following allows us to run the SCRUB unlearning algorithm with some modifiable hyperparameters."
      ],
      "metadata": {
        "id": "Jigay3qncDgC"
      }
    },
    {
      "cell_type": "code",
      "execution_count": null,
      "metadata": {
        "id": "_h5Z6j2EHCTZ"
      },
      "outputs": [],
      "source": [
        "from types import SimpleNamespace\n",
        "\n",
        "# Defining the args namespace\n",
        "args = SimpleNamespace()\n",
        "\n",
        "# Hyperparameters\n",
        "args.epochs = 15\n",
        "args.learning_rate = 0.0001\n",
        "args.msteps = 10           # Unlearning is performed from epoch 0-msteps (inclusive)\n",
        "args.t_opt_gamma = 1        # Keep this\n",
        "args.t_opt_alpha = 0.0      # Focus on CE loss (hard unlearning)\n",
        "args.kd_T = 2               # KL divergence temperature\n",
        "args.check_path = '/content/Unlearning-MIA-Eval/scrub.pt'\n",
        "args.print_accuracies = True\n",
        "args.dataset = DATASET"
      ]
    },
    {
      "cell_type": "code",
      "execution_count": null,
      "metadata": {
        "colab": {
          "base_uri": "https://localhost:8080/"
        },
        "id": "W-FYQMtFPSSt",
        "outputId": "3fba8583-c66e-4b82-8c45-c422ef6bae3a"
      },
      "outputs": [
        {
          "output_type": "stream",
          "name": "stdout",
          "text": [
            "Epoch 1: maximize loss: 0.00, minimize loss: 0.00, train_acc: 0\n",
            "   tr_acc: 91.64888888888889\n",
            "   tf_acc: 85.26\n",
            "   vr_acc: 83.36300912530604\n",
            "   vf_acc: 79.58579881656804\n",
            "Epoch 2: maximize loss: 0.00, minimize loss: 0.00, train_acc: 0\n",
            "   tr_acc: 91.55555555555556\n",
            "   tf_acc: 7.3\n",
            "   vr_acc: 84.08635655464055\n",
            "   vf_acc: 7.790927021696253\n",
            "Epoch 3: maximize loss: 0.00, minimize loss: 0.00, train_acc: 0\n",
            "   tr_acc: 90.60888888888888\n",
            "   tf_acc: 0.02\n",
            "   vr_acc: 83.9862007567327\n",
            "   vf_acc: 0.0\n",
            "Epoch 4: maximize loss: 0.00, minimize loss: 0.00, train_acc: 0\n",
            "   tr_acc: 89.49333333333334\n",
            "   tf_acc: 0.0\n",
            "   vr_acc: 83.32962385933675\n",
            "   vf_acc: 0.0\n",
            "Epoch 5: maximize loss: 0.00, minimize loss: 0.00, train_acc: 0\n",
            "   tr_acc: 89.65333333333334\n",
            "   tf_acc: 0.0\n",
            "   vr_acc: 82.94012908969508\n",
            "   vf_acc: 0.0\n",
            "Epoch 6: maximize loss: 0.00, minimize loss: 0.00, train_acc: 0\n",
            "   tr_acc: 89.1288888888889\n",
            "   tf_acc: 0.0\n",
            "   vr_acc: 83.26285332739818\n",
            "   vf_acc: 0.0\n",
            "Epoch 7: maximize loss: 0.00, minimize loss: 0.00, train_acc: 0\n",
            "   tr_acc: 88.92\n",
            "   tf_acc: 0.0\n",
            "   vr_acc: 82.55063432005342\n",
            "   vf_acc: 0.0\n",
            "Epoch 8: maximize loss: 0.00, minimize loss: 0.00, train_acc: 0\n",
            "   tr_acc: 88.71333333333334\n",
            "   tf_acc: 0.0\n",
            "   vr_acc: 82.42822167816604\n",
            "   vf_acc: 0.0\n",
            "Epoch 9: maximize loss: 0.00, minimize loss: 0.00, train_acc: 0\n",
            "   tr_acc: 88.34222222222222\n",
            "   tf_acc: 0.0\n",
            "   vr_acc: 82.37257956821723\n",
            "   vf_acc: 0.0\n",
            "Epoch 10: maximize loss: 0.00, minimize loss: 0.00, train_acc: 0\n",
            "   tr_acc: 88.47777777777777\n",
            "   tf_acc: 0.0\n",
            "   vr_acc: 82.89561540173604\n",
            "   vf_acc: 0.0\n",
            "Epoch 11: maximize loss: 0.00, minimize loss: 0.00, train_acc: 0\n",
            "   tr_acc: 89.54444444444445\n",
            "   tf_acc: 0.0\n",
            "   vr_acc: 83.40752281326508\n",
            "   vf_acc: 0.0\n",
            "Epoch 12: maximize loss: 0.00, minimize loss: 0.00, train_acc: 0\n",
            "   tr_acc: 89.82888888888888\n",
            "   tf_acc: 0.0\n",
            "   vr_acc: 83.50767861117293\n",
            "   vf_acc: 0.0\n",
            "Epoch 13: maximize loss: 0.00, minimize loss: 0.00, train_acc: 0\n",
            "   tr_acc: 90.25333333333333\n",
            "   tf_acc: 0.0\n",
            "   vr_acc: 83.68573336300912\n",
            "   vf_acc: 0.0\n",
            "Epoch 14: maximize loss: 0.00, minimize loss: 0.00, train_acc: 0\n",
            "   tr_acc: 90.65333333333334\n",
            "   tf_acc: 0.0\n",
            "   vr_acc: 84.19764077453817\n",
            "   vf_acc: 0.0\n",
            "Epoch 15: maximize loss: 0.00, minimize loss: 0.00, train_acc: 0\n",
            "   tr_acc: 90.88222222222223\n",
            "   tf_acc: 0.0\n",
            "   vr_acc: 84.37569552637436\n",
            "   vf_acc: 0.0\n"
          ]
        }
      ],
      "source": [
        "from Final_Structure.scrub import scrub\n",
        "from Final_Structure.training import load_model\n",
        "\n",
        "# Train the scrub unlearning model\n",
        "full_path = '/content/Unlearning-MIA-Eval/resnet_full.pt'\n",
        "scrub_model, scrub_history = scrub(full_path, loaders, args)"
      ]
    },
    {
      "cell_type": "code",
      "source": [
        "from Final_Structure.evaluate import plot_tuning_accs\n",
        "\n",
        "plot_tuning_accs(scrub_history)"
      ],
      "metadata": {
        "colab": {
          "base_uri": "https://localhost:8080/",
          "height": 458
        },
        "id": "1lPvm_ml2IlO",
        "outputId": "6f1b962d-e7ac-422b-f46d-02942a319bcc"
      },
      "execution_count": null,
      "outputs": [
        {
          "output_type": "display_data",
          "data": {
            "text/plain": [
              "<Figure size 640x480 with 1 Axes>"
            ],
            "image/png": "[encoded data removed]"
          },
          "metadata": {}
        }
      ]
    },
    {
      "cell_type": "markdown",
      "metadata": {
        "id": "L9QJRmei-NG8"
      },
      "source": [
        "### Performing Bad Teach Unlearning"
      ]
    },
    {
      "cell_type": "markdown",
      "source": [
        "The following allows us to run the Bad Teach unlearning algorithm with some modifiable hyperparameters.\n"
      ],
      "metadata": {
        "id": "Zr38xmiWcTyF"
      }
    },
    {
      "cell_type": "code",
      "execution_count": null,
      "metadata": {
        "id": "fE83I8_lQfxG"
      },
      "outputs": [],
      "source": [
        "from types import SimpleNamespace\n",
        "\n",
        "# Defining the args namespace\n",
        "args = SimpleNamespace()\n",
        "\n",
        "# Hyperparameters\n",
        "args.epochs = 7\n",
        "args.learning_rate = 0.0001\n",
        "args.KL_temperature = 4\n",
        "args.batch_size = 256\n",
        "args.check_path = '/content/Unlearning-MIA-Eval/badt.pt'\n",
        "args.print_accuracies = True\n",
        "args.dataset = DATASET"
      ]
    },
    {
      "cell_type": "code",
      "execution_count": null,
      "metadata": {
        "colab": {
          "base_uri": "https://localhost:8080/"
        },
        "id": "Bb0q4qJgREgI",
        "outputId": "8ffc4417-cfb2-4c99-e17c-4e08fdc73ee3"
      },
      "outputs": [
        {
          "output_type": "stream",
          "name": "stdout",
          "text": [
            "Epoch 1 Unlearning Loss 0.0034446450881659985\n",
            "   tr_acc: 89.73555555555555\n",
            "   tf_acc: 32.54\n",
            "   vr_acc: 81.78277320275986\n",
            "   vf_acc: 31.45956607495069\n",
            "Epoch 2 Unlearning Loss 0.001268376363441348\n",
            "   tr_acc: 89.77777777777777\n",
            "   tf_acc: 17.9\n",
            "   vr_acc: 81.31537947918986\n",
            "   vf_acc: 16.86390532544379\n",
            "Epoch 3 Unlearning Loss 0.0009080077288672328\n",
            "   tr_acc: 90.02888888888889\n",
            "   tf_acc: 5.22\n",
            "   vr_acc: 82.07211217449365\n",
            "   vf_acc: 4.339250493096647\n",
            "Epoch 4 Unlearning Loss 0.0007775190169923007\n",
            "   tr_acc: 89.89111111111112\n",
            "   tf_acc: 6.34\n",
            "   vr_acc: 82.150011128422\n",
            "   vf_acc: 5.9171597633136095\n",
            "Epoch 5 Unlearning Loss 0.0006721300887875259\n",
            "   tr_acc: 90.00666666666666\n",
            "   tf_acc: 4.02\n",
            "   vr_acc: 81.99421322056533\n",
            "   vf_acc: 3.4516765285996054\n",
            "Epoch 6 Unlearning Loss 0.0006183295627124608\n",
            "   tr_acc: 89.72888888888889\n",
            "   tf_acc: 3.94\n",
            "   vr_acc: 81.14845314934342\n",
            "   vf_acc: 2.8599605522682445\n",
            "Epoch 7 Unlearning Loss 0.0005815921467728913\n",
            "   tr_acc: 89.84222222222222\n",
            "   tf_acc: 3.48\n",
            "   vr_acc: 81.61584687291342\n",
            "   vf_acc: 3.155818540433925\n"
          ]
        }
      ],
      "source": [
        "from Final_Structure.badt import badt\n",
        "from Final_Structure.training import load_model\n",
        "\n",
        "# Train the scrub unlearning model\n",
        "full_path = '/content/Unlearning-MIA-Eval/resnet_full.pt'\n",
        "badt_model, badt_history = badt(full_path, loaders, args)"
      ]
    },
    {
      "cell_type": "code",
      "source": [
        "from Final_Structure.evaluate import plot_tuning_accs\n",
        "\n",
        "plot_tuning_accs(badt_history)"
      ],
      "metadata": {
        "colab": {
          "base_uri": "https://localhost:8080/",
          "height": 458
        },
        "id": "iVWukGryu31r",
        "outputId": "057e401e-03e6-4c0f-e534-ba671b961506"
      },
      "execution_count": null,
      "outputs": [
        {
          "output_type": "display_data",
          "data": {
            "text/plain": [
              "<Figure size 640x480 with 1 Axes>"
            ],
            "image/png": "[encoded data removed]"
          },
          "metadata": {}
        }
      ]
    },
    {
      "cell_type": "markdown",
      "metadata": {
        "id": "uog1oRY_DeGy"
      },
      "source": [
        "### Performing Selective Synaptic Dampening Unlearning"
      ]
    },
    {
      "cell_type": "markdown",
      "source": [
        "The following allows us to run the SSD unlearning algorithm with some modifiable hyperparameters."
      ],
      "metadata": {
        "id": "yXKRISb8cWwK"
      }
    },
    {
      "cell_type": "code",
      "execution_count": null,
      "metadata": {
        "id": "AfEWsVHNgt6I"
      },
      "outputs": [],
      "source": [
        "from types import SimpleNamespace\n",
        "\n",
        "# Defining the args namespace\n",
        "args = SimpleNamespace()\n",
        "\n",
        "# Hyperparameters\n",
        "args.learning_rate = 0.001      # Doesn't impact unlearning\n",
        "args.dampening_constant = 10    # Parameter used in the paper\n",
        "args.selection_weighting = 1    # Parameter used in the paper\n",
        "args.check_path = '/content/Unlearning-MIA-Eval/ssd.pt'\n",
        "args.print_accuracies = True\n",
        "args.dataset = DATASET"
      ]
    },
    {
      "cell_type": "code",
      "execution_count": null,
      "metadata": {
        "id": "h4kcDXGFR-Uv",
        "colab": {
          "base_uri": "https://localhost:8080/"
        },
        "outputId": "4bde38e6-e73e-4b12-9192-d3eae3c66783"
      },
      "outputs": [
        {
          "output_type": "stream",
          "name": "stdout",
          "text": [
            "{'lower_bound': 1, 'exponent': 1, 'magnitude_diff': None, 'min_layer': -1, 'max_layer': -1, 'forget_threshold': 1, 'dampening_constant': 10, 'selection_weighting': 1}\n",
            "{'tr_acc': 89.31333333333333, 'tf_acc': 93.34, 'vr_acc': 81.13732472735366, 'vf_acc': 87.67258382642999}\n"
          ]
        }
      ],
      "source": [
        "from Final_Structure.ssd import ssd\n",
        "from Final_Structure.training import load_model\n",
        "\n",
        "# Train the scrub unlearning model\n",
        "full_path = '/content/Unlearning-MIA-Eval/resnet_full.pt'\n",
        "ssd_model, ssd_accs = ssd(full_path, loaders, args)"
      ]
    },
    {
      "cell_type": "code",
      "execution_count": null,
      "metadata": {
        "colab": {
          "base_uri": "https://localhost:8080/"
        },
        "id": "faqy-RZHSZzf",
        "outputId": "28142d67-0128-4988-cebd-3a2fed75cd20"
      },
      "outputs": [
        {
          "output_type": "stream",
          "name": "stdout",
          "text": [
            "{'tr_acc': 70.23555555555555, 'tf_acc': 0.18, 'vr_acc': 65.35722234587135, 'vf_acc': 0.0}\n"
          ]
        }
      ],
      "source": [
        "print(ssd_accs)"
      ]
    },
    {
      "cell_type": "markdown",
      "metadata": {
        "id": "gWX3qbhR2aNe"
      },
      "source": [
        "## Writing Evaluation Code"
      ]
    },
    {
      "cell_type": "markdown",
      "metadata": {
        "id": "p9CPkgU2_UiI"
      },
      "source": [
        "### Evaluating Performance Post-Unlearning"
      ]
    },
    {
      "cell_type": "code",
      "execution_count": null,
      "metadata": {
        "id": "5P79bR4q2fT3"
      },
      "outputs": [],
      "source": [
        "import torch\n",
        "import torch.nn as nn\n",
        "import torchvision\n",
        "import torchvision.transforms as transforms\n",
        "from torch.utils.data import DataLoader\n",
        "import argparse\n",
        "import os\n",
        "from sklearn.metrics import (\n",
        "    accuracy_score,\n",
        "    precision_score,\n",
        "    recall_score,\n",
        "    f1_score,\n",
        "    classification_report,\n",
        ")\n",
        "from Final_Structure.evaluate import evaluate_model\n",
        "\n",
        "# Function for printing evaluation metrics\n",
        "def print_metrics(metrics_dict, model_name, show_report=False, show_loss=False):\n",
        "    print(f\"\\nMetrics for {model_name}:\")\n",
        "    for metric, value in metrics_dict.items():\n",
        "        if metric == 'report':\n",
        "            if show_report:\n",
        "                print(\"\\nPer-class classification report:\\n\")\n",
        "                print(value)\n",
        "            continue\n",
        "        if metric == 'losses':\n",
        "            if show_loss:\n",
        "                print(\"\\nLosses:\")\n",
        "                print(value)\n",
        "            continue\n",
        "        print(f\"  {metric:10s}: {value:.4f}\" if isinstance(value, float) else f\"  {metric:10s}: {value}\")\n",
        "\n",
        "# Function for calculating and printing metrics\n",
        "def calculate_and_print_metrics(\n",
        "    model_list,\n",
        "    name_list,\n",
        "    dataloader,\n",
        "    device,\n",
        "    show_report=False,\n",
        "    show_loss=False):\n",
        "    for model, name in zip(model_list, name_list):\n",
        "        metrics = evaluate_model(model, dataloader, device)\n",
        "        print_metrics(metrics, name, show_report, show_loss)\n",
        "        print()"
      ]
    },
    {
      "cell_type": "markdown",
      "source": [
        "## Unlearning Performance"
      ],
      "metadata": {
        "id": "YDre0geodA59"
      }
    },
    {
      "cell_type": "markdown",
      "source": [
        "### Loading unlearned models"
      ],
      "metadata": {
        "id": "OADZLRGDdGfl"
      }
    },
    {
      "cell_type": "code",
      "execution_count": null,
      "metadata": {
        "id": "AJFwfyl12zIA"
      },
      "outputs": [],
      "source": [
        "from Final_Structure.training import load_model\n",
        "\n",
        "# Defining checkpoint paths\n",
        "scrub_path = '/content/Unlearning-MIA-Eval/scrub.pt'\n",
        "badt_path = '/content/Unlearning-MIA-Eval/badt.pt'\n",
        "ssd_path = '/content/Unlearning-MIA-Eval/ssd.pt'\n",
        "retain_path = '/content/Unlearning-MIA-Eval/retain_model.pt'"
      ]
    },
    {
      "cell_type": "code",
      "source": [
        "scrub_model = load_model(DATASET, scrub_path)"
      ],
      "metadata": {
        "id": "OBU3y0sM6PL2"
      },
      "execution_count": null,
      "outputs": []
    },
    {
      "cell_type": "code",
      "source": [
        "badt_model = load_model(DATASET, badt_path)"
      ],
      "metadata": {
        "id": "KbRMNgkb6OBt"
      },
      "execution_count": null,
      "outputs": []
    },
    {
      "cell_type": "code",
      "source": [
        "ssd_model = load_model(DATASET, ssd_path)"
      ],
      "metadata": {
        "id": "ceBW3MnC6Mzg"
      },
      "execution_count": null,
      "outputs": []
    },
    {
      "cell_type": "code",
      "source": [
        "retain_model = load_model(DATASET, retain_path)"
      ],
      "metadata": {
        "id": "7FhSl27B6LT9"
      },
      "execution_count": null,
      "outputs": []
    },
    {
      "cell_type": "markdown",
      "source": [
        "### Post-Learning Performance on Retained Data"
      ],
      "metadata": {
        "id": "_DRYwJVfdUdJ"
      }
    },
    {
      "cell_type": "code",
      "execution_count": null,
      "metadata": {
        "id": "Gzr-G0MT2jOk",
        "colab": {
          "base_uri": "https://localhost:8080/"
        },
        "outputId": "a9b5f5a3-5ede-4df7-e648-472e3033266c"
      },
      "outputs": [
        {
          "output_type": "stream",
          "name": "stdout",
          "text": [
            "\n",
            "Metrics for SCRUB:\n",
            "  accuracy  : 0.9090\n",
            "  precision : 0.9094\n",
            "  recall    : 0.9090\n",
            "  f1        : 0.9091\n",
            "\n",
            "\n",
            "Metrics for Bad Teach:\n",
            "  accuracy  : 0.8978\n",
            "  precision : 0.8087\n",
            "  recall    : 0.8080\n",
            "  f1        : 0.8082\n",
            "\n",
            "\n",
            "Metrics for SSD:\n",
            "  accuracy  : 0.6982\n",
            "  precision : 0.7604\n",
            "  recall    : 0.6982\n",
            "  f1        : 0.6925\n",
            "\n",
            "\n",
            "Metrics for Retain:\n",
            "  accuracy  : 0.9163\n",
            "  precision : 0.9187\n",
            "  recall    : 0.9163\n",
            "  f1        : 0.9162\n",
            "\n"
          ]
        }
      ],
      "source": [
        "name_list = ['SCRUB', 'Bad Teach', 'SSD', 'Retain']\n",
        "model_list = [scrub_model, badt_model, ssd_model, retain_model]\n",
        "calculate_and_print_metrics(model_list, name_list, train_retain_loader, 'cuda', show_report=False, show_loss=False)"
      ]
    },
    {
      "cell_type": "markdown",
      "source": [
        "### Post-Learning Performance on Forgotten Data"
      ],
      "metadata": {
        "id": "0hO3QuJifJ5D"
      }
    },
    {
      "cell_type": "code",
      "source": [
        "name_list = ['SCRUB', 'Bad Teach', 'SSD', 'Retain']\n",
        "model_list = [scrub_model, badt_model, ssd_model, retain_model]\n",
        "calculate_and_print_metrics(model_list, name_list, train_forget_loader, 'cuda', show_report=False, show_loss=False)"
      ],
      "metadata": {
        "id": "-HB-o1i_fP2F",
        "colab": {
          "base_uri": "https://localhost:8080/"
        },
        "outputId": "a74b75eb-a483-466d-9484-67ba8ce2db3b"
      },
      "execution_count": null,
      "outputs": [
        {
          "output_type": "stream",
          "name": "stdout",
          "text": [
            "\n",
            "Metrics for SCRUB:\n",
            "  accuracy  : 0.0000\n",
            "  precision : 0.0000\n",
            "  recall    : 0.0000\n",
            "  f1        : 0.0000\n",
            "\n",
            "\n",
            "Metrics for Bad Teach:\n",
            "  accuracy  : 0.0334\n",
            "  precision : 0.1000\n",
            "  recall    : 0.0033\n",
            "  f1        : 0.0065\n",
            "\n",
            "\n",
            "Metrics for SSD:\n",
            "  accuracy  : 0.0012\n",
            "  precision : 0.1000\n",
            "  recall    : 0.0001\n",
            "  f1        : 0.0002\n",
            "\n",
            "\n",
            "Metrics for Retain:\n",
            "  accuracy  : 0.0000\n",
            "  precision : 0.0000\n",
            "  recall    : 0.0000\n",
            "  f1        : 0.0000\n",
            "\n"
          ]
        }
      ]
    },
    {
      "cell_type": "markdown",
      "source": [
        "### Membership Inference Attack Performance"
      ],
      "metadata": {
        "id": "CSTXyr47fYS8"
      }
    },
    {
      "cell_type": "code",
      "execution_count": null,
      "metadata": {
        "id": "n17RaroQJiAt"
      },
      "outputs": [],
      "source": [
        "full_path = '/content/Unlearning-MIA-Eval/resnet_full.pt'\n",
        "full_model = load_model(DATASET, full_path)\n",
        "DEVICE = 'cuda'"
      ]
    },
    {
      "cell_type": "markdown",
      "metadata": {
        "id": "q5XDKsXoAzRf"
      },
      "source": [
        "#### Fully Retrained Model"
      ]
    },
    {
      "cell_type": "code",
      "execution_count": null,
      "metadata": {
        "id": "ni71uTVfBABw",
        "colab": {
          "base_uri": "https://localhost:8080/",
          "height": 472
        },
        "outputId": "3bbcba31-28d1-4577-eae3-1608da01d211"
      },
      "outputs": [
        {
          "output_type": "display_data",
          "data": {
            "text/plain": [
              "<Figure size 640x480 with 1 Axes>"
            ],
            "image/png": "[encoded data removed]"
          },
          "metadata": {}
        }
      ],
      "source": [
        "from Final_Structure.evaluate import membership_inference_attack\n",
        "\n",
        "# Example function call for the model before unlearning\n",
        "retrain_mean_metrics, retrain_std_metrics = membership_inference_attack(\n",
        "    retain_model,\n",
        "    valid_forget_loader,\n",
        "    train_forget_loader,\n",
        "    device=DEVICE,\n",
        "    seed=SEED,\n",
        "    plot_dist=True\n",
        ")"
      ]
    },
    {
      "cell_type": "code",
      "source": [
        "print(\"Mean Metrics:\\n\", retrain_mean_metrics.to_string(), \"\\n\")\n",
        "print(\"Standard Deviation Metrics:\\n\", retrain_std_metrics.to_string())"
      ],
      "metadata": {
        "colab": {
          "base_uri": "https://localhost:8080/"
        },
        "id": "ShCZTZfGjZN-",
        "outputId": "484b0cee-0f0d-4e59-dbd4-f5b75afa41d1"
      },
      "execution_count": null,
      "outputs": [
        {
          "output_type": "stream",
          "name": "stdout",
          "text": [
            "Mean Metrics:\n",
            " TP     64.000000\n",
            "TN     45.800000\n",
            "FP     37.400000\n",
            "FN     55.800000\n",
            "TPR     0.533524\n",
            "TNR     0.554699\n",
            "PPV     0.631450\n",
            "NPV     0.450883\n",
            "FPR     0.445301\n",
            "FNR     0.466476\n",
            "FDR     0.368550\n",
            "ACC     0.540887 \n",
            "\n",
            "Standard Deviation Metrics:\n",
            " TP     8.602325\n",
            "TN     5.540758\n",
            "FP     9.016651\n",
            "FN     5.761944\n",
            "TPR    0.024429\n",
            "TNR    0.051378\n",
            "PPV    0.087397\n",
            "NPV    0.055719\n",
            "FPR    0.051378\n",
            "FNR    0.024429\n",
            "FDR    0.087397\n",
            "ACC    0.033301\n"
          ]
        }
      ]
    },
    {
      "cell_type": "markdown",
      "metadata": {
        "id": "2APf_UIdA6F0"
      },
      "source": [
        "#### SCRUB"
      ]
    },
    {
      "cell_type": "code",
      "execution_count": null,
      "metadata": {
        "id": "Y3RzR4RyBA9C",
        "colab": {
          "base_uri": "https://localhost:8080/",
          "height": 472
        },
        "outputId": "55c1b9dc-73f0-4543-e347-2ee4f6528c3d"
      },
      "outputs": [
        {
          "output_type": "display_data",
          "data": {
            "text/plain": [
              "<Figure size 640x480 with 1 Axes>"
            ],
            "image/png": "[encoded data removed]"
          },
          "metadata": {}
        }
      ],
      "source": [
        "from Final_Structure.evaluate import membership_inference_attack\n",
        "\n",
        "# Example function call for the model before unlearning\n",
        "scrub_mean_metrics, scrub_std_metrics = membership_inference_attack(\n",
        "    scrub_model,\n",
        "    valid_forget_loader,\n",
        "    train_forget_loader,\n",
        "    device=DEVICE,\n",
        "    seed=SEED,\n",
        "    plot_dist=True\n",
        ")"
      ]
    },
    {
      "cell_type": "code",
      "source": [
        "print(\"Mean Metrics:\\n\", scrub_mean_metrics.to_string(), \"\\n\")\n",
        "print(\"Standard Deviation Metrics:\\n\", scrub_std_metrics.to_string())"
      ],
      "metadata": {
        "colab": {
          "base_uri": "https://localhost:8080/"
        },
        "id": "_aq8iO42j3ig",
        "outputId": "a88db643-7db9-41b4-e1be-a042b12263c5"
      },
      "execution_count": null,
      "outputs": [
        {
          "output_type": "stream",
          "name": "stdout",
          "text": [
            "Mean Metrics:\n",
            " TP     57.200000\n",
            "TN     47.000000\n",
            "FP     44.200000\n",
            "FN     54.600000\n",
            "TPR     0.512268\n",
            "TNR     0.514546\n",
            "PPV     0.564123\n",
            "NPV     0.462629\n",
            "FPR     0.485454\n",
            "FNR     0.487732\n",
            "FDR     0.435877\n",
            "ACC     0.513300 \n",
            "\n",
            "Standard Deviation Metrics:\n",
            " TP     3.193744\n",
            "TN     5.338539\n",
            "FP     3.271085\n",
            "FN     5.412947\n",
            "TPR    0.027128\n",
            "TNR    0.035111\n",
            "PPV    0.031878\n",
            "NPV    0.052672\n",
            "FPR    0.035111\n",
            "FNR    0.027128\n",
            "FDR    0.031878\n",
            "ACC    0.030446\n"
          ]
        }
      ]
    },
    {
      "cell_type": "markdown",
      "metadata": {
        "id": "X7_khrpVA9Ce"
      },
      "source": [
        "#### Bad Teach"
      ]
    },
    {
      "cell_type": "code",
      "execution_count": null,
      "metadata": {
        "id": "RHS4JBy8BBtD",
        "colab": {
          "base_uri": "https://localhost:8080/",
          "height": 472
        },
        "outputId": "6dec800c-663c-4798-aaa8-2f658960b556"
      },
      "outputs": [
        {
          "output_type": "display_data",
          "data": {
            "text/plain": [
              "<Figure size 640x480 with 1 Axes>"
            ],
            "image/png": "[encoded data removed]"
          },
          "metadata": {}
        }
      ],
      "source": [
        "from Final_Structure.evaluate import membership_inference_attack\n",
        "\n",
        "# Example function call for the model before unlearning\n",
        "badt_mean_metrics, badt_std_metrics = membership_inference_attack(\n",
        "    badt_model,\n",
        "    valid_forget_loader,\n",
        "    train_forget_loader,\n",
        "    device=DEVICE,\n",
        "    seed=SEED,\n",
        "    plot_dist=True\n",
        ")"
      ]
    },
    {
      "cell_type": "code",
      "source": [
        "print(\"Mean Metrics:\\n\", badt_mean_metrics.to_string(), \"\\n\")\n",
        "print(\"Standard Deviation Metrics:\\n\", badt_std_metrics.to_string())"
      ],
      "metadata": {
        "id": "T0N5Ah--kTUy",
        "colab": {
          "base_uri": "https://localhost:8080/"
        },
        "outputId": "b2a02f46-72ad-4e97-ff3f-9ca1fe9750a5"
      },
      "execution_count": null,
      "outputs": [
        {
          "output_type": "stream",
          "name": "stdout",
          "text": [
            "Mean Metrics:\n",
            " TP     61.600000\n",
            "TN     44.800000\n",
            "FP     39.800000\n",
            "FN     56.800000\n",
            "TPR     0.520188\n",
            "TNR     0.529781\n",
            "PPV     0.607397\n",
            "NPV     0.440846\n",
            "FPR     0.470219\n",
            "FNR     0.479812\n",
            "FDR     0.392603\n",
            "ACC     0.524138 \n",
            "\n",
            "Standard Deviation Metrics:\n",
            " TP     5.029911\n",
            "TN     4.711688\n",
            "FP     4.764452\n",
            "FN     4.438468\n",
            "TPR    0.019185\n",
            "TNR    0.028300\n",
            "PPV    0.048082\n",
            "NPV    0.045031\n",
            "FPR    0.028300\n",
            "FNR    0.019185\n",
            "FDR    0.048082\n",
            "ACC    0.022735\n"
          ]
        }
      ]
    },
    {
      "cell_type": "markdown",
      "metadata": {
        "id": "7HOudae9A-a_"
      },
      "source": [
        "#### SSD"
      ]
    },
    {
      "cell_type": "code",
      "execution_count": null,
      "metadata": {
        "id": "2PxhtLUCBCBS",
        "colab": {
          "base_uri": "https://localhost:8080/",
          "height": 472
        },
        "outputId": "0651120b-0a7a-4579-8737-b7db5ff35598"
      },
      "outputs": [
        {
          "output_type": "display_data",
          "data": {
            "text/plain": [
              "<Figure size 640x480 with 1 Axes>"
            ],
            "image/png": "[encoded data removed]"
          },
          "metadata": {}
        }
      ],
      "source": [
        "from Final_Structure.evaluate import membership_inference_attack\n",
        "\n",
        "# Example function call for the model before unlearning\n",
        "ssd_mean_metrics, ssd_std_metrics = membership_inference_attack(\n",
        "    ssd_model,\n",
        "    test_forget_loader,\n",
        "    train_forget_loader,\n",
        "    device=DEVICE,\n",
        "    seed=SEED,\n",
        "    plot_dist=True\n",
        ")"
      ]
    },
    {
      "cell_type": "code",
      "source": [
        "print(\"Mean Metrics:\\n\", ssd_mean_metrics.to_string(), \"\\n\")\n",
        "print(\"Standard Deviation Metrics:\\n\", ssd_std_metrics.to_string())"
      ],
      "metadata": {
        "colab": {
          "base_uri": "https://localhost:8080/"
        },
        "id": "0pOo7NAUktZ_",
        "outputId": "e5144db3-9943-4929-b141-a0a053c07afd"
      },
      "execution_count": null,
      "outputs": [
        {
          "output_type": "stream",
          "name": "stdout",
          "text": [
            "Mean Metrics:\n",
            " TP     48.200000\n",
            "TN     49.000000\n",
            "FP     51.800000\n",
            "FN     51.000000\n",
            "TPR     0.486681\n",
            "TNR     0.484756\n",
            "PPV     0.482000\n",
            "NPV     0.490000\n",
            "FPR     0.515244\n",
            "FNR     0.513319\n",
            "FDR     0.518000\n",
            "ACC     0.486000 \n",
            "\n",
            "Standard Deviation Metrics:\n",
            " TP     8.228001\n",
            "TN     9.617692\n",
            "FP     8.228001\n",
            "FN     9.617692\n",
            "TPR    0.023486\n",
            "TNR    0.019505\n",
            "PPV    0.082280\n",
            "NPV    0.096177\n",
            "FPR    0.019505\n",
            "FNR    0.023486\n",
            "FDR    0.082280\n",
            "ACC    0.020736\n"
          ]
        }
      ]
    }
  ],
  "metadata": {
    "accelerator": "GPU",
    "colab": {
      "gpuType": "A100",
      "machine_shape": "hm",
      "provenance": []
    },
    "kernelspec": {
      "display_name": "Python 3",
      "name": "python3"
    },
    "language_info": {
      "name": "python"
    }
  },
  "nbformat": 4,
  "nbformat_minor": 0
}