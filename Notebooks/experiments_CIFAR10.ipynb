{
  "nbformat": 4,
  "nbformat_minor": 0,
  "metadata": {
    "colab": {
      "provenance": [],
      "machine_shape": "hm"
    },
    "kernelspec": {
      "name": "python3",
      "display_name": "Python 3"
    },
    "language_info": {
      "name": "python"
    }
  },
  "cells": [
    {
      "cell_type": "markdown",
      "metadata": {
        "id": "IsdqVO9wrM6u"
      },
      "source": [
        "## Experiments Notebook File"
      ]
    },
    {
      "cell_type": "markdown",
      "metadata": {
        "id": "1qieF3pjrSrh"
      },
      "source": [
        "Run the following command to mount your Google Drive, so that you have a permanent destination to store files generated during the experiment."
      ]
    },
    {
      "cell_type": "markdown",
      "metadata": {
        "id": "ws9YE1tjrYsH"
      },
      "source": [
        "Run the following command to clone our machine learning framework into your local environment."
      ]
    },
    {
      "cell_type": "code",
      "execution_count": null,
      "metadata": {
        "colab": {
          "base_uri": "https://localhost:8080/"
        },
        "id": "usWNBmoSoffT",
        "outputId": "e54104ad-060c-4200-b39a-5ef3a80330d3"
      },
      "outputs": [
        {
          "output_type": "stream",
          "name": "stdout",
          "text": [
            "Mounted at /content/drive\n"
          ]
        }
      ],
      "source": [
        "from google.colab import drive\n",
        "drive.mount('/content/drive')"
      ]
    },
    {
      "cell_type": "code",
      "execution_count": null,
      "metadata": {
        "colab": {
          "base_uri": "https://localhost:8080/"
        },
        "id": "JutEHOdWpdqg",
        "outputId": "7978e07c-3b61-4843-f511-033174ce1511"
      },
      "outputs": [
        {
          "output_type": "stream",
          "name": "stdout",
          "text": [
            "Cloning into 'Unlearning-MIA-Eval'...\n",
            "remote: Enumerating objects: 453, done.\u001b[K\n",
            "remote: Counting objects:   1% (1/87)\u001b[K\rremote: Counting objects:   2% (2/87)\u001b[K\rremote: Counting objects:   3% (3/87)\u001b[K\rremote: Counting objects:   4% (4/87)\u001b[K\rremote: Counting objects:   5% (5/87)\u001b[K\rremote: Counting objects:   6% (6/87)\u001b[K\rremote: Counting objects:   8% (7/87)\u001b[K\rremote: Counting objects:   9% (8/87)\u001b[K\rremote: Counting objects:  10% (9/87)\u001b[K\rremote: Counting objects:  11% (10/87)\u001b[K\rremote: Counting objects:  12% (11/87)\u001b[K\rremote: Counting objects:  13% (12/87)\u001b[K\rremote: Counting objects:  14% (13/87)\u001b[K\rremote: Counting objects:  16% (14/87)\u001b[K\rremote: Counting objects:  17% (15/87)\u001b[K\rremote: Counting objects:  18% (16/87)\u001b[K\rremote: Counting objects:  19% (17/87)\u001b[K\rremote: Counting objects:  20% (18/87)\u001b[K\rremote: Counting objects:  21% (19/87)\u001b[K\rremote: Counting objects:  22% (20/87)\u001b[K\rremote: Counting objects:  24% (21/87)\u001b[K\rremote: Counting objects:  25% (22/87)\u001b[K\rremote: Counting objects:  26% (23/87)\u001b[K\rremote: Counting objects:  27% (24/87)\u001b[K\rremote: Counting objects:  28% (25/87)\u001b[K\rremote: Counting objects:  29% (26/87)\u001b[K\rremote: Counting objects:  31% (27/87)\u001b[K\rremote: Counting objects:  32% (28/87)\u001b[K\rremote: Counting objects:  33% (29/87)\u001b[K\rremote: Counting objects:  34% (30/87)\u001b[K\rremote: Counting objects:  35% (31/87)\u001b[K\rremote: Counting objects:  36% (32/87)\u001b[K\rremote: Counting objects:  37% (33/87)\u001b[K\rremote: Counting objects:  39% (34/87)\u001b[K\rremote: Counting objects:  40% (35/87)\u001b[K\rremote: Counting objects:  41% (36/87)\u001b[K\rremote: Counting objects:  42% (37/87)\u001b[K\rremote: Counting objects:  43% (38/87)\u001b[K\rremote: Counting objects:  44% (39/87)\u001b[K\rremote: Counting objects:  45% (40/87)\u001b[K\rremote: Counting objects:  47% (41/87)\u001b[K\rremote: Counting objects:  48% (42/87)\u001b[K\rremote: Counting objects:  49% (43/87)\u001b[K\rremote: Counting objects:  50% (44/87)\u001b[K\rremote: Counting objects:  51% (45/87)\u001b[K\rremote: Counting objects:  52% (46/87)\u001b[K\rremote: Counting objects:  54% (47/87)\u001b[K\rremote: Counting objects:  55% (48/87)\u001b[K\rremote: Counting objects:  56% (49/87)\u001b[K\rremote: Counting objects:  57% (50/87)\u001b[K\rremote: Counting objects:  58% (51/87)\u001b[K\rremote: Counting objects:  59% (52/87)\u001b[K\rremote: Counting objects:  60% (53/87)\u001b[K\rremote: Counting objects:  62% (54/87)\u001b[K\rremote: Counting objects:  63% (55/87)\u001b[K\rremote: Counting objects:  64% (56/87)\u001b[K\rremote: Counting objects:  65% (57/87)\u001b[K\rremote: Counting objects:  66% (58/87)\u001b[K\rremote: Counting objects:  67% (59/87)\u001b[K\rremote: Counting objects:  68% (60/87)\u001b[K\rremote: Counting objects:  70% (61/87)\u001b[K\rremote: Counting objects:  71% (62/87)\u001b[K\rremote: Counting objects:  72% (63/87)\u001b[K\rremote: Counting objects:  73% (64/87)\u001b[K\rremote: Counting objects:  74% (65/87)\u001b[K\rremote: Counting objects:  75% (66/87)\u001b[K\rremote: Counting objects:  77% (67/87)\u001b[K\rremote: Counting objects:  78% (68/87)\u001b[K\rremote: Counting objects:  79% (69/87)\u001b[K\rremote: Counting objects:  80% (70/87)\u001b[K\rremote: Counting objects:  81% (71/87)\u001b[K\rremote: Counting objects:  82% (72/87)\u001b[K\rremote: Counting objects:  83% (73/87)\u001b[K\rremote: Counting objects:  85% (74/87)\u001b[K\rremote: Counting objects:  86% (75/87)\u001b[K\rremote: Counting objects:  87% (76/87)\u001b[K\rremote: Counting objects:  88% (77/87)\u001b[K\rremote: Counting objects:  89% (78/87)\u001b[K\rremote: Counting objects:  90% (79/87)\u001b[K\rremote: Counting objects:  91% (80/87)\u001b[K\rremote: Counting objects:  93% (81/87)\u001b[K\rremote: Counting objects:  94% (82/87)\u001b[K\rremote: Counting objects:  95% (83/87)\u001b[K\rremote: Counting objects:  96% (84/87)\u001b[K\rremote: Counting objects:  97% (85/87)\u001b[K\rremote: Counting objects:  98% (86/87)\u001b[K\rremote: Counting objects: 100% (87/87)\u001b[K\rremote: Counting objects: 100% (87/87), done.\u001b[K\n",
            "remote: Compressing objects: 100% (59/59), done.\u001b[K\n",
            "remote: Total 453 (delta 58), reused 53 (delta 28), pack-reused 366 (from 1)\u001b[K\n",
            "Receiving objects: 100% (453/453), 249.40 MiB | 51.12 MiB/s, done.\n",
            "Resolving deltas: 100% (283/283), done.\n",
            "Updating files: 100% (20/20), done.\n",
            "Submodule 'Third_Party_Code/BadTeach' (https://github.com/aiden-dm/bad-teaching-unlearning) registered for path 'Third_Party_Code/BadTeach'\n",
            "Submodule 'Third_Party_Code/SCRUB' (https://github.com/aiden-dm/SCRUB) registered for path 'Third_Party_Code/SCRUB'\n",
            "Submodule 'Third_Party_Code/SSD' (https://github.com/aiden-dm/selective-synaptic-dampening) registered for path 'Third_Party_Code/SSD'\n",
            "Cloning into '/content/Unlearning-MIA-Eval/Third_Party_Code/BadTeach'...\n",
            "remote: Enumerating objects: 69, done.        \n",
            "remote: Counting objects: 100% (69/69), done.        \n",
            "remote: Compressing objects: 100% (64/64), done.        \n",
            "remote: Total 69 (delta 37), reused 12 (delta 4), pack-reused 0 (from 0)        \n",
            "Receiving objects: 100% (69/69), 24.48 KiB | 24.48 MiB/s, done.\n",
            "Resolving deltas: 100% (37/37), done.\n",
            "Cloning into '/content/Unlearning-MIA-Eval/Third_Party_Code/SCRUB'...\n",
            "remote: Enumerating objects: 110, done.        \n",
            "remote: Counting objects: 100% (110/110), done.        \n",
            "remote: Compressing objects: 100% (74/74), done.        \n",
            "remote: Total 110 (delta 41), reused 99 (delta 33), pack-reused 0 (from 0)        \n",
            "Receiving objects: 100% (110/110), 794.95 KiB | 6.57 MiB/s, done.\n",
            "Resolving deltas: 100% (41/41), done.\n",
            "Cloning into '/content/Unlearning-MIA-Eval/Third_Party_Code/SSD'...\n",
            "remote: Enumerating objects: 138, done.        \n",
            "remote: Counting objects: 100% (111/111), done.        \n",
            "remote: Compressing objects: 100% (59/59), done.        \n",
            "remote: Total 138 (delta 86), reused 63 (delta 52), pack-reused 27 (from 1)        \n",
            "Receiving objects: 100% (138/138), 50.44 KiB | 2.02 MiB/s, done.\n",
            "Resolving deltas: 100% (87/87), done.\n",
            "Submodule path 'Third_Party_Code/BadTeach': checked out 'c224be552189acc7e3fa7e64b2a7e63452120bf7'\n",
            "Submodule path 'Third_Party_Code/SCRUB': checked out '98ffb1196ffbec2665092598c13ad3b6ec3d095d'\n",
            "Submodule path 'Third_Party_Code/SSD': checked out 'ea39ca68128e9c1e98c5dcff9daa5990be328eca'\n"
          ]
        }
      ],
      "source": [
        "!git clone --recurse-submodules https://github.com/aiden-dm/Unlearning-MIA-Eval.git"
      ]
    },
    {
      "cell_type": "markdown",
      "metadata": {
        "id": "5kZw6zDMrhZ4"
      },
      "source": [
        "If you ever need to delete the cloned repository for re-cloning, the following command can be used to delete the local version of the framework."
      ]
    },
    {
      "cell_type": "code",
      "execution_count": null,
      "metadata": {
        "id": "yoa7TrOEpf7y"
      },
      "outputs": [],
      "source": [
        "!rm -rf /content/Unlearning-MIA-Eval"
      ]
    },
    {
      "cell_type": "markdown",
      "metadata": {
        "id": "DSjt6KcBrphb"
      },
      "source": [
        "Run the following code to add the /content/Unlearning-MIA-Eval/ directory to Python's module search path so you can import local files from the unlearning framework as if they were installed packages."
      ]
    },
    {
      "cell_type": "code",
      "execution_count": null,
      "metadata": {
        "id": "D_PO3EKtpgdj"
      },
      "outputs": [],
      "source": [
        "import sys\n",
        "\n",
        "# Adding the local files to the system path\n",
        "sys.path.append('/content/Unlearning-MIA-Eval/')"
      ]
    },
    {
      "cell_type": "code",
      "execution_count": null,
      "metadata": {
        "colab": {
          "base_uri": "https://localhost:8080/"
        },
        "id": "22SGiHwJpjqW",
        "outputId": "1acaac5e-1160-43c7-cfe7-2152d0ad8750"
      },
      "outputs": [
        {
          "output_type": "stream",
          "name": "stdout",
          "text": [
            "Using dataset: cifar10\n",
            "100% 170M/170M [00:01<00:00, 87.4MB/s]\n",
            "No need to train ResNet on full train set, as a checkpoint already exists!\n",
            "Retrain Unlearning Unnecessary, Checkpoint Exists for Class/Classes 0\n",
            "SCRUB Unlearning Unnecessary, Checkpoint Exists for Class Class/Classes 0\n",
            "BadTeach Unlearning Unnecessary, Checkpoint Exists for Class 0\n",
            "SSD Unlearning Unnecessary, Checkpoint Exists for Class 0\n",
            "Retrain Unlearning Unnecessary, Checkpoint Exists for Class/Classes 1\n",
            "SCRUB Unlearning Unnecessary, Checkpoint Exists for Class Class/Classes 1\n",
            "BadTeach Unlearning Unnecessary, Checkpoint Exists for Class 1\n",
            "SSD Unlearning Unnecessary, Checkpoint Exists for Class 1\n",
            "Retrain Unlearning Unnecessary, Checkpoint Exists for Class/Classes 2\n",
            "SCRUB Unlearning Unnecessary, Checkpoint Exists for Class Class/Classes 2\n",
            "BadTeach Unlearning Unnecessary, Checkpoint Exists for Class 2\n",
            "SSD Unlearning Unnecessary, Checkpoint Exists for Class 2\n",
            "Retrain Unlearning Unnecessary, Checkpoint Exists for Class/Classes 3\n",
            "SCRUB Unlearning Unnecessary, Checkpoint Exists for Class Class/Classes 3\n",
            "BadTeach Unlearning Unnecessary, Checkpoint Exists for Class 3\n",
            "SSD Unlearning Unnecessary, Checkpoint Exists for Class 3\n",
            "Retrain Unlearning Unnecessary, Checkpoint Exists for Class/Classes 4\n",
            "SCRUB Unlearning Unnecessary, Checkpoint Exists for Class Class/Classes 4\n",
            "BadTeach Unlearning Unnecessary, Checkpoint Exists for Class 4\n",
            "SSD Unlearning Unnecessary, Checkpoint Exists for Class 4\n",
            "Retrain Unlearning Unnecessary, Checkpoint Exists for Class/Classes 5\n",
            "SCRUB Unlearning Unnecessary, Checkpoint Exists for Class Class/Classes 5\n",
            "BadTeach Unlearning Unnecessary, Checkpoint Exists for Class 5\n",
            "SSD Unlearning Unnecessary, Checkpoint Exists for Class 5\n",
            "Retrain Unlearning Unnecessary, Checkpoint Exists for Class/Classes 6\n",
            "SCRUB Unlearning Unnecessary, Checkpoint Exists for Class Class/Classes 6\n",
            "BadTeach Unlearning Unnecessary, Checkpoint Exists for Class 6\n",
            "SSD Unlearning Unnecessary, Checkpoint Exists for Class 6\n",
            "Retrain Unlearning Unnecessary, Checkpoint Exists for Class/Classes 7\n",
            "SCRUB Unlearning Unnecessary, Checkpoint Exists for Class Class/Classes 7\n",
            "BadTeach Unlearning Unnecessary, Checkpoint Exists for Class 7\n",
            "SSD Unlearning Unnecessary, Checkpoint Exists for Class 7\n",
            "Retrain Unlearning Unnecessary, Checkpoint Exists for Class/Classes 8\n",
            "SCRUB Unlearning Unnecessary, Checkpoint Exists for Class Class/Classes 8\n",
            "BadTeach Unlearning Unnecessary, Checkpoint Exists for Class 8\n",
            "SSD Unlearning Unnecessary, Checkpoint Exists for Class 8\n",
            "Retrain Unlearning Unnecessary, Checkpoint Exists for Class/Classes 9\n",
            "SCRUB Unlearning Unnecessary, Checkpoint Exists for Class Class/Classes 9\n",
            "BadTeach Unlearning Unnecessary, Checkpoint Exists for Class 9\n",
            "SSD Unlearning Unnecessary, Checkpoint Exists for Class 9\n",
            "/content/Unlearning-MIA-Eval/Final_Structure/experiments.py:209: FutureWarning: The behavior of DataFrame concatenation with empty or all-NA entries is deprecated. In a future version, this will no longer exclude empty or all-NA columns when determining the result dtypes. To retain the old behavior, exclude the relevant entries before the concat operation.\n",
            "  r_performance_df = pd.concat([r_performance_df, pd.DataFrame([r_row])], ignore_index=True)\n",
            "/content/Unlearning-MIA-Eval/Final_Structure/experiments.py:210: FutureWarning: The behavior of DataFrame concatenation with empty or all-NA entries is deprecated. In a future version, this will no longer exclude empty or all-NA columns when determining the result dtypes. To retain the old behavior, exclude the relevant entries before the concat operation.\n",
            "  f_performance_df = pd.concat([f_performance_df, pd.DataFrame([f_row])], ignore_index=True)\n",
            "/content/Unlearning-MIA-Eval/Final_Structure/experiments.py:209: FutureWarning: The behavior of DataFrame concatenation with empty or all-NA entries is deprecated. In a future version, this will no longer exclude empty or all-NA columns when determining the result dtypes. To retain the old behavior, exclude the relevant entries before the concat operation.\n",
            "  r_performance_df = pd.concat([r_performance_df, pd.DataFrame([r_row])], ignore_index=True)\n",
            "/content/Unlearning-MIA-Eval/Final_Structure/experiments.py:210: FutureWarning: The behavior of DataFrame concatenation with empty or all-NA entries is deprecated. In a future version, this will no longer exclude empty or all-NA columns when determining the result dtypes. To retain the old behavior, exclude the relevant entries before the concat operation.\n",
            "  f_performance_df = pd.concat([f_performance_df, pd.DataFrame([f_row])], ignore_index=True)\n",
            "+----+-------------------+----------+----------+-----------+--------+----------+\n",
            "|    | Forgotten Classes |  Method  | Accuracy | Precision | Recall | F1 Score |\n",
            "+----+-------------------+----------+----------+-----------+--------+----------+\n",
            "| 0  |         0         | retrain  |   0.92   |   0.92    |  0.92  |   0.92   |\n",
            "| 1  |         0         |  SCRUB   |   0.91   |   0.91    |  0.91  |   0.91   |\n",
            "| 2  |         0         | BadTeach |   0.9    |   0.82    |  0.81  |   0.81   |\n",
            "| 3  |         0         |   SSD    |   0.63   |   0.68    |  0.56  |   0.56   |\n",
            "| 4  |         1         | retrain  |   0.9    |   0.91    |  0.9   |   0.9    |\n",
            "| 5  |         1         |  SCRUB   |   0.91   |   0.91    |  0.91  |   0.91   |\n",
            "| 6  |         1         | BadTeach |   0.9    |   0.81    |  0.81  |   0.81   |\n",
            "| 7  |         1         |   SSD    |   0.7    |   0.76    |  0.7   |   0.69   |\n",
            "| 8  |         2         | retrain  |   0.92   |   0.93    |  0.92  |   0.92   |\n",
            "| 9  |         2         |  SCRUB   |   0.91   |   0.91    |  0.91  |   0.91   |\n",
            "| 10 |         2         | BadTeach |   0.91   |   0.82    |  0.82  |   0.82   |\n",
            "| 11 |         2         |   SSD    |   0.4    |    0.6    |  0.36  |   0.32   |\n",
            "| 12 |         3         | retrain  |   0.94   |   0.94    |  0.94  |   0.94   |\n",
            "| 13 |         3         |  SCRUB   |   0.92   |   0.92    |  0.92  |   0.92   |\n",
            "| 14 |         3         | BadTeach |   0.92   |   0.83    |  0.83  |   0.83   |\n",
            "| 15 |         3         |   SSD    |   0.17   |   0.42    |  0.15  |   0.1    |\n",
            "| 16 |         4         | retrain  |   0.91   |   0.91    |  0.91  |   0.91   |\n",
            "| 17 |         4         |  SCRUB   |   0.91   |   0.91    |  0.91  |   0.91   |\n",
            "| 18 |         4         | BadTeach |   0.9    |   0.82    |  0.81  |   0.81   |\n",
            "| 19 |         4         |   SSD    |   0.41   |   0.66    |  0.36  |   0.36   |\n",
            "| 20 |         5         | retrain  |   0.94   |   0.94    |  0.94  |   0.94   |\n",
            "| 21 |         5         |  SCRUB   |   0.92   |   0.92    |  0.92  |   0.92   |\n",
            "| 22 |         5         | BadTeach |   0.91   |   0.83    |  0.82  |   0.83   |\n",
            "| 23 |         5         |   SSD    |   0.2    |    0.4    |  0.18  |   0.07   |\n",
            "| 24 |         6         | retrain  |   0.92   |   0.92    |  0.92  |   0.92   |\n",
            "| 25 |         6         |  SCRUB   |   0.91   |   0.91    |  0.91  |   0.91   |\n",
            "| 26 |         6         | BadTeach |   0.9    |   0.81    |  0.81  |   0.81   |\n",
            "| 27 |         6         |   SSD    |   0.51   |    0.6    |  0.46  |   0.43   |\n",
            "| 28 |         7         | retrain  |   0.92   |   0.92    |  0.92  |   0.92   |\n",
            "| 29 |         7         |  SCRUB   |   0.9    |    0.9    |  0.9   |   0.9    |\n",
            "| 30 |         7         | BadTeach |   0.9    |   0.81    |  0.81  |   0.81   |\n",
            "| 31 |         7         |   SSD    |   0.61   |   0.64    |  0.55  |   0.54   |\n",
            "| 32 |         8         | retrain  |   0.92   |   0.92    |  0.92  |   0.92   |\n",
            "| 33 |         8         |  SCRUB   |   0.92   |   0.92    |  0.92  |   0.92   |\n",
            "| 34 |         8         | BadTeach |   0.89   |   0.81    |  0.8   |   0.81   |\n",
            "| 35 |         8         |   SSD    |   0.86   |   0.88    |  0.86  |   0.87   |\n",
            "| 36 |         9         | retrain  |   0.92   |   0.92    |  0.92  |   0.92   |\n",
            "| 37 |         9         |  SCRUB   |   0.91   |   0.91    |  0.91  |   0.91   |\n",
            "| 38 |         9         | BadTeach |   0.9    |   0.81    |  0.81  |   0.81   |\n",
            "| 39 |         9         |   SSD    |   0.33   |   0.37    |  0.3   |   0.23   |\n",
            "+----+-------------------+----------+----------+-----------+--------+----------+\n",
            "\n",
            "+----+-------------------+----------+----------+-----------+--------+----------+\n",
            "|    | Forgotten Classes |  Method  | Accuracy | Precision | Recall | F1 Score |\n",
            "+----+-------------------+----------+----------+-----------+--------+----------+\n",
            "| 0  |         0         | retrain  |   0.0    |    0.0    |  0.0   |   0.0    |\n",
            "| 1  |         0         |  SCRUB   |   0.0    |    0.0    |  0.0   |   0.0    |\n",
            "| 2  |         0         | BadTeach |   0.24   |    0.1    |  0.02  |   0.04   |\n",
            "| 3  |         0         |   SSD    |   0.01   |    0.1    |  0.0   |   0.0    |\n",
            "| 4  |         1         | retrain  |   0.0    |    0.0    |  0.0   |   0.0    |\n",
            "| 5  |         1         |  SCRUB   |   0.0    |    0.0    |  0.0   |   0.0    |\n",
            "| 6  |         1         | BadTeach |   0.83   |    0.1    |  0.08  |   0.09   |\n",
            "| 7  |         1         |   SSD    |   0.0    |    0.1    |  0.0   |   0.0    |\n",
            "| 8  |         2         | retrain  |   0.0    |    0.0    |  0.0   |   0.0    |\n",
            "| 9  |         2         |  SCRUB   |   0.0    |    0.0    |  0.0   |   0.0    |\n",
            "| 10 |         2         | BadTeach |   0.13   |    0.1    |  0.01  |   0.02   |\n",
            "| 11 |         2         |   SSD    |   0.08   |    0.1    |  0.01  |   0.02   |\n",
            "| 12 |         3         | retrain  |   0.0    |    0.0    |  0.0   |   0.0    |\n",
            "| 13 |         3         |  SCRUB   |   0.0    |    0.0    |  0.0   |   0.0    |\n",
            "| 14 |         3         | BadTeach |   0.2    |    0.1    |  0.02  |   0.03   |\n",
            "| 15 |         3         |   SSD    |   0.0    |   0.25    |  0.0   |   0.0    |\n",
            "| 16 |         4         | retrain  |   0.0    |    0.0    |  0.0   |   0.0    |\n",
            "| 17 |         4         |  SCRUB   |   0.0    |    0.0    |  0.0   |   0.0    |\n",
            "| 18 |         4         | BadTeach |   0.15   |    0.1    |  0.02  |   0.03   |\n",
            "| 19 |         4         |   SSD    |   0.23   |   0.12    |  0.03  |   0.05   |\n",
            "| 20 |         5         | retrain  |   0.0    |    0.0    |  0.0   |   0.0    |\n",
            "| 21 |         5         |  SCRUB   |   0.0    |    0.0    |  0.0   |   0.0    |\n",
            "| 22 |         5         | BadTeach |   0.39   |    0.1    |  0.04  |   0.06   |\n",
            "| 23 |         5         |   SSD    |   0.0    |   0.25    |  0.0   |   0.0    |\n",
            "| 24 |         6         | retrain  |   0.0    |    0.0    |  0.0   |   0.0    |\n",
            "| 25 |         6         |  SCRUB   |   0.0    |    0.0    |  0.0   |   0.0    |\n",
            "| 26 |         6         | BadTeach |   0.13   |    0.1    |  0.01  |   0.02   |\n",
            "| 27 |         6         |   SSD    |   0.0    |    0.1    |  0.0   |   0.0    |\n",
            "| 28 |         7         | retrain  |   0.0    |    0.0    |  0.0   |   0.0    |\n",
            "| 29 |         7         |  SCRUB   |   0.0    |    0.0    |  0.0   |   0.0    |\n",
            "| 30 |         7         | BadTeach |   0.03   |    0.1    |  0.0   |   0.01   |\n",
            "| 31 |         7         |   SSD    |   0.0    |    0.1    |  0.0   |   0.0    |\n",
            "| 32 |         8         | retrain  |   0.0    |    0.0    |  0.0   |   0.0    |\n",
            "| 33 |         8         |  SCRUB   |   0.0    |    0.0    |  0.0   |   0.0    |\n",
            "| 34 |         8         | BadTeach |   0.13   |    0.1    |  0.01  |   0.02   |\n",
            "| 35 |         8         |   SSD    |   0.09   |    0.1    |  0.01  |   0.02   |\n",
            "| 36 |         9         | retrain  |   0.0    |    0.0    |  0.0   |   0.0    |\n",
            "| 37 |         9         |  SCRUB   |   0.0    |    0.0    |  0.0   |   0.0    |\n",
            "| 38 |         9         | BadTeach |   0.09   |    0.1    |  0.01  |   0.02   |\n",
            "| 39 |         9         |   SSD    |   0.0    |    0.0    |  0.0   |   0.0    |\n",
            "+----+-------------------+----------+----------+-----------+--------+----------+\n",
            "\n",
            "+----+-------------------+----------+----------+-----------+--------+----------+\n",
            "|    | Forgotten Classes |  Method  | Accuracy | Precision | Recall | F1 Score |\n",
            "+----+-------------------+----------+----------+-----------+--------+----------+\n",
            "| 0  |         0         | retrain  |   0.84   |   0.85    |  0.85  |   0.84   |\n",
            "| 1  |         0         |  SCRUB   |   0.84   |   0.85    |  0.84  |   0.84   |\n",
            "| 2  |         0         | BadTeach |   0.83   |   0.76    |  0.75  |   0.75   |\n",
            "| 3  |         0         |   SSD    |   0.63   |   0.67    |  0.57  |   0.57   |\n",
            "| 4  |         1         | retrain  |   0.82   |   0.83    |  0.82  |   0.82   |\n",
            "| 5  |         1         |  SCRUB   |   0.84   |   0.84    |  0.84  |   0.84   |\n",
            "| 6  |         1         | BadTeach |   0.82   |   0.75    |  0.74  |   0.74   |\n",
            "| 7  |         1         |   SSD    |   0.68   |   0.74    |  0.68  |   0.68   |\n",
            "| 8  |         2         | retrain  |   0.85   |   0.85    |  0.85  |   0.85   |\n",
            "| 9  |         2         |  SCRUB   |   0.86   |   0.86    |  0.86  |   0.86   |\n",
            "| 10 |         2         | BadTeach |   0.84   |   0.77    |  0.76  |   0.76   |\n",
            "| 11 |         2         |   SSD    |   0.4    |   0.61    |  0.36  |   0.32   |\n",
            "| 12 |         3         | retrain  |   0.87   |   0.87    |  0.87  |   0.87   |\n",
            "| 13 |         3         |  SCRUB   |   0.87   |   0.87    |  0.87  |   0.87   |\n",
            "| 14 |         3         | BadTeach |   0.86   |   0.79    |  0.78  |   0.78   |\n",
            "| 15 |         3         |   SSD    |   0.18   |    0.3    |  0.16  |   0.11   |\n",
            "| 16 |         4         | retrain  |   0.83   |   0.83    |  0.83  |   0.83   |\n",
            "| 17 |         4         |  SCRUB   |   0.85   |   0.85    |  0.85  |   0.85   |\n",
            "| 18 |         4         | BadTeach |   0.83   |   0.76    |  0.75  |   0.75   |\n",
            "| 19 |         4         |   SSD    |   0.42   |   0.64    |  0.38  |   0.37   |\n",
            "| 20 |         5         | retrain  |   0.86   |   0.86    |  0.86  |   0.86   |\n",
            "| 21 |         5         |  SCRUB   |   0.87   |   0.87    |  0.87  |   0.87   |\n",
            "| 22 |         5         | BadTeach |   0.84   |   0.77    |  0.76  |   0.76   |\n",
            "| 23 |         5         |   SSD    |   0.2    |   0.19    |  0.18  |   0.08   |\n",
            "| 24 |         6         | retrain  |   0.84   |   0.84    |  0.84  |   0.84   |\n",
            "| 25 |         6         |  SCRUB   |   0.84   |   0.84    |  0.84  |   0.84   |\n",
            "| 26 |         6         | BadTeach |   0.83   |   0.75    |  0.75  |   0.75   |\n",
            "| 27 |         6         |   SSD    |   0.51   |   0.59    |  0.45  |   0.43   |\n",
            "| 28 |         7         | retrain  |   0.84   |   0.84    |  0.84  |   0.84   |\n",
            "| 29 |         7         |  SCRUB   |   0.84   |   0.84    |  0.84  |   0.84   |\n",
            "| 30 |         7         | BadTeach |   0.83   |   0.75    |  0.75  |   0.75   |\n",
            "| 31 |         7         |   SSD    |   0.6    |   0.63    |  0.54  |   0.53   |\n",
            "| 32 |         8         | retrain  |   0.83   |   0.83    |  0.83  |   0.83   |\n",
            "| 33 |         8         |  SCRUB   |   0.84   |   0.84    |  0.84  |   0.84   |\n",
            "| 34 |         8         | BadTeach |   0.81   |   0.74    |  0.73  |   0.74   |\n",
            "| 35 |         8         |   SSD    |   0.8    |   0.74    |  0.72  |   0.72   |\n",
            "| 36 |         9         | retrain  |   0.83   |   0.84    |  0.83  |   0.83   |\n",
            "| 37 |         9         |  SCRUB   |   0.84   |   0.84    |  0.84  |   0.84   |\n",
            "| 38 |         9         | BadTeach |   0.83   |   0.75    |  0.75  |   0.75   |\n",
            "| 39 |         9         |   SSD    |   0.33   |   0.41    |  0.33  |   0.26   |\n",
            "+----+-------------------+----------+----------+-----------+--------+----------+\n",
            "\n",
            "+----+-------------------+----------+----------+-----------+--------+----------+\n",
            "|    | Forgotten Classes |  Method  | Accuracy | Precision | Recall | F1 Score |\n",
            "+----+-------------------+----------+----------+-----------+--------+----------+\n",
            "| 0  |         0         | retrain  |   0.0    |    0.0    |  0.0   |   0.0    |\n",
            "| 1  |         0         |  SCRUB   |   0.0    |    0.0    |  0.0   |   0.0    |\n",
            "| 2  |         0         | BadTeach |   0.16   |    0.1    |  0.02  |   0.03   |\n",
            "| 3  |         0         |   SSD    |   0.01   |    0.1    |  0.0   |   0.0    |\n",
            "| 4  |         1         | retrain  |   0.0    |    0.0    |  0.0   |   0.0    |\n",
            "| 5  |         1         |  SCRUB   |   0.0    |    0.0    |  0.0   |   0.0    |\n",
            "| 6  |         1         | BadTeach |   0.78   |    0.1    |  0.08  |   0.09   |\n",
            "| 7  |         1         |   SSD    |   0.0    |    0.1    |  0.0   |   0.0    |\n",
            "| 8  |         2         | retrain  |   0.0    |    0.0    |  0.0   |   0.0    |\n",
            "| 9  |         2         |  SCRUB   |   0.0    |    0.0    |  0.0   |   0.0    |\n",
            "| 10 |         2         | BadTeach |   0.1    |    0.1    |  0.01  |   0.02   |\n",
            "| 11 |         2         |   SSD    |   0.08   |   0.12    |  0.01  |   0.02   |\n",
            "| 12 |         3         | retrain  |   0.0    |    0.0    |  0.0   |   0.0    |\n",
            "| 13 |         3         |  SCRUB   |   0.0    |    0.0    |  0.0   |   0.0    |\n",
            "| 14 |         3         | BadTeach |   0.15   |    0.1    |  0.02  |   0.03   |\n",
            "| 15 |         3         |   SSD    |   0.0    |   0.25    |  0.0   |   0.0    |\n",
            "| 16 |         4         | retrain  |   0.0    |    0.0    |  0.0   |   0.0    |\n",
            "| 17 |         4         |  SCRUB   |   0.0    |    0.0    |  0.0   |   0.0    |\n",
            "| 18 |         4         | BadTeach |   0.12   |    0.1    |  0.01  |   0.02   |\n",
            "| 19 |         4         |   SSD    |   0.21   |   0.12    |  0.03  |   0.04   |\n",
            "| 20 |         5         | retrain  |   0.0    |    0.0    |  0.0   |   0.0    |\n",
            "| 21 |         5         |  SCRUB   |   0.0    |    0.0    |  0.0   |   0.0    |\n",
            "| 22 |         5         | BadTeach |   0.34   |    0.1    |  0.03  |   0.05   |\n",
            "| 23 |         5         |   SSD    |   0.01   |   0.25    |  0.0   |   0.0    |\n",
            "| 24 |         6         | retrain  |   0.0    |    0.0    |  0.0   |   0.0    |\n",
            "| 25 |         6         |  SCRUB   |   0.0    |    0.0    |  0.0   |   0.0    |\n",
            "| 26 |         6         | BadTeach |   0.12   |    0.1    |  0.01  |   0.02   |\n",
            "| 27 |         6         |   SSD    |   0.0    |   0.11    |  0.0   |   0.0    |\n",
            "| 28 |         7         | retrain  |   0.0    |    0.0    |  0.0   |   0.0    |\n",
            "| 29 |         7         |  SCRUB   |   0.0    |    0.0    |  0.0   |   0.0    |\n",
            "| 30 |         7         | BadTeach |   0.03   |    0.1    |  0.0   |   0.01   |\n",
            "| 31 |         7         |   SSD    |   0.0    |    0.1    |  0.0   |   0.0    |\n",
            "| 32 |         8         | retrain  |   0.0    |    0.0    |  0.0   |   0.0    |\n",
            "| 33 |         8         |  SCRUB   |   0.0    |    0.0    |  0.0   |   0.0    |\n",
            "| 34 |         8         | BadTeach |   0.12   |   0.11    |  0.01  |   0.02   |\n",
            "| 35 |         8         |   SSD    |   0.17   |    0.1    |  0.02  |   0.03   |\n",
            "| 36 |         9         | retrain  |   0.0    |    0.0    |  0.0   |   0.0    |\n",
            "| 37 |         9         |  SCRUB   |   0.0    |    0.0    |  0.0   |   0.0    |\n",
            "| 38 |         9         | BadTeach |   0.05   |    0.1    |  0.0   |   0.01   |\n",
            "| 39 |         9         |   SSD    |   0.0    |    0.0    |  0.0   |   0.0    |\n",
            "+----+-------------------+----------+----------+-----------+--------+----------+\n",
            "\n",
            "+----+-------------------+----------+-----------+-------------+-------------+-------------+-------------+-----------+-----------+-----------+-----------+-----------+-----------+-----------+\n",
            "|    | Forgotten Classes |  Method  |    ACC    |     TP      |     TN      |     FP      |     FN      |    TPR    |    TNR    |    PPV    |    NPV    |    FPR    |    FNR    |    FDR    |\n",
            "+----+-------------------+----------+-----------+-------------+-------------+-------------+-------------+-----------+-----------+-----------+-----------+-----------+-----------+-----------+\n",
            "| 0  |         0         | retrain  | 0.56±0.02 | 50.40±7.02  | 62.40±3.29  | 49.60±7.02  | 37.60±3.29  | 0.57±0.02 | 0.56±0.03 | 0.50±0.07 | 0.62±0.03 | 0.44±0.03 | 0.43±0.02 | 0.50±0.07 |\n",
            "| 1  |         0         |  SCRUB   | 0.55±0.02 | 36.80±3.90  | 72.80±4.38  | 63.20±3.90  | 27.20±4.38  | 0.58±0.03 | 0.54±0.01 | 0.37±0.04 | 0.73±0.04 | 0.46±0.01 | 0.42±0.03 | 0.63±0.04 |\n",
            "| 2  |         0         | BadTeach | 0.54±0.04 | 56.60±5.03  | 51.80±4.60  | 43.40±5.03  | 48.20±4.60  | 0.54±0.04 | 0.54±0.04 | 0.57±0.05 | 0.52±0.05 | 0.46±0.04 | 0.46±0.04 | 0.43±0.05 |\n",
            "| 3  |         0         |   SSD    | 0.46±0.02 | 47.40±5.18  | 44.80±2.28  | 52.60±5.18  | 55.20±2.28  | 0.46±0.02 | 0.46±0.02 | 0.47±0.05 | 0.45±0.02 | 0.54±0.02 | 0.54±0.02 | 0.53±0.05 |\n",
            "| 4  |         1         | retrain  | 0.54±0.02 | 44.60±3.29  | 63.20±4.92  | 55.40±3.29  | 36.80±4.92  | 0.55±0.03 | 0.53±0.02 | 0.45±0.03 | 0.63±0.05 | 0.47±0.02 | 0.45±0.03 | 0.55±0.03 |\n",
            "| 5  |         1         |  SCRUB   | 0.53±0.03 | 45.80±5.97  | 60.20±3.96  | 54.20±5.97  | 39.80±3.96  | 0.53±0.04 | 0.53±0.03 | 0.46±0.06 | 0.60±0.04 | 0.47±0.03 | 0.47±0.04 | 0.54±0.06 |\n",
            "| 6  |         1         | BadTeach | 0.50±0.03 | 38.20±4.66  | 62.60±4.34  | 61.80±4.66  | 37.40±4.34  | 0.51±0.04 | 0.50±0.02 | 0.38±0.05 | 0.63±0.04 | 0.50±0.02 | 0.49±0.04 | 0.62±0.05 |\n",
            "| 7  |         1         |   SSD    | 0.50±0.03 | 59.40±1.67  | 41.00±4.95  | 40.60±1.67  | 59.00±4.95  | 0.50±0.02 | 0.50±0.03 | 0.59±0.02 | 0.41±0.05 | 0.50±0.03 | 0.50±0.02 | 0.41±0.02 |\n",
            "| 8  |         2         | retrain  | 0.56±0.03 | 54.80±8.29  | 58.00±4.30  | 45.20±8.29  | 42.00±4.30  | 0.56±0.03 | 0.56±0.04 | 0.55±0.08 | 0.58±0.04 | 0.44±0.04 | 0.44±0.03 | 0.45±0.08 |\n",
            "| 9  |         2         |  SCRUB   | 0.54±0.04 | 52.20±7.76  | 55.00±4.18  | 47.80±7.76  | 45.00±4.18  | 0.54±0.04 | 0.54±0.04 | 0.52±0.08 | 0.55±0.04 | 0.46±0.04 | 0.46±0.04 | 0.48±0.08 |\n",
            "| 10 |         2         | BadTeach | 0.53±0.03 | 54.60±6.07  | 52.00±1.58  | 45.40±6.07  | 48.00±1.58  | 0.53±0.03 | 0.54±0.03 | 0.55±0.06 | 0.52±0.02 | 0.46±0.03 | 0.47±0.03 | 0.45±0.06 |\n",
            "| 11 |         2         |   SSD    | 0.51±0.03 | 37.20±2.68  | 65.80±5.50  | 62.80±2.68  | 34.20±5.50  | 0.52±0.05 | 0.51±0.03 | 0.37±0.03 | 0.66±0.05 | 0.49±0.03 | 0.48±0.05 | 0.63±0.03 |\n",
            "| 12 |         3         | retrain  | 0.57±0.02 | 52.20±2.86  | 61.40±5.41  | 47.80±2.86  | 38.60±5.41  | 0.58±0.03 | 0.56±0.02 | 0.52±0.03 | 0.61±0.05 | 0.44±0.02 | 0.42±0.03 | 0.48±0.03 |\n",
            "| 13 |         3         |  SCRUB   | 0.57±0.02 | 44.80±1.30  | 68.40±4.72  | 55.20±1.30  | 31.60±4.72  | 0.59±0.03 | 0.55±0.01 | 0.45±0.01 | 0.68±0.05 | 0.45±0.01 | 0.41±0.03 | 0.55±0.01 |\n",
            "| 14 |         3         | BadTeach | 0.56±0.04 | 45.40±5.13  | 66.00±5.10  | 54.60±5.13  | 34.00±5.10  | 0.57±0.05 | 0.55±0.03 | 0.45±0.05 | 0.66±0.05 | 0.45±0.03 | 0.43±0.05 | 0.55±0.05 |\n",
            "| 15 |         3         |   SSD    | 0.53±0.03 | 47.40±2.30  | 59.00±4.00  | 52.60±2.30  | 41.00±4.00  | 0.54±0.03 | 0.53±0.02 | 0.47±0.02 | 0.59±0.04 | 0.47±0.02 | 0.46±0.03 | 0.53±0.02 |\n",
            "| 16 |         4         | retrain  | 0.56±0.04 | 49.60±2.30  | 62.60±7.44  | 50.40±2.30  | 37.40±7.44  | 0.57±0.05 | 0.55±0.04 | 0.50±0.02 | 0.63±0.07 | 0.45±0.04 | 0.43±0.05 | 0.50±0.02 |\n",
            "| 17 |         4         |  SCRUB   | 0.56±0.03 | 54.80±4.97  | 57.80±2.86  | 45.20±4.97  | 42.20±2.86  | 0.56±0.03 | 0.56±0.03 | 0.55±0.05 | 0.58±0.03 | 0.44±0.03 | 0.44±0.03 | 0.45±0.05 |\n",
            "| 18 |         4         | BadTeach | 0.51±0.02 | 57.20±4.49  | 45.00±3.67  | 42.80±4.49  | 55.00±3.67  | 0.51±0.02 | 0.51±0.02 | 0.57±0.04 | 0.45±0.04 | 0.49±0.02 | 0.49±0.02 | 0.43±0.04 |\n",
            "| 19 |         4         |   SSD    | 0.51±0.05 | 44.80±6.02  | 57.80±3.96  | 55.20±6.02  | 42.20±3.96  | 0.51±0.05 | 0.51±0.04 | 0.45±0.06 | 0.58±0.04 | 0.49±0.04 | 0.49±0.05 | 0.55±0.06 |\n",
            "| 20 |         5         | retrain  | 0.53±0.05 | 49.40±6.11  | 56.20±7.60  | 50.60±6.11  | 43.80±7.60  | 0.53±0.06 | 0.53±0.04 | 0.49±0.06 | 0.56±0.08 | 0.47±0.04 | 0.47±0.06 | 0.51±0.06 |\n",
            "| 21 |         5         |  SCRUB   | 0.53±0.04 | 47.40±6.31  | 58.40±3.05  | 52.60±6.31  | 41.60±3.05  | 0.53±0.04 | 0.53±0.03 | 0.47±0.06 | 0.58±0.03 | 0.47±0.03 | 0.47±0.04 | 0.53±0.06 |\n",
            "| 22 |         5         | BadTeach | 0.51±0.02 | 45.80±1.79  | 55.40±2.97  | 54.20±1.79  | 44.60±2.97  | 0.51±0.02 | 0.51±0.01 | 0.46±0.02 | 0.55±0.03 | 0.49±0.01 | 0.49±0.02 | 0.54±0.02 |\n",
            "| 23 |         5         |   SSD    | 0.52±0.03 | 54.60±7.23  | 49.80±2.59  | 45.40±7.23  | 50.20±2.59  | 0.52±0.03 | 0.53±0.04 | 0.55±0.07 | 0.50±0.03 | 0.47±0.04 | 0.48±0.03 | 0.45±0.07 |\n",
            "| 24 |         6         | retrain  | 0.54±0.03 | 50.40±3.05  | 56.80±4.60  | 49.60±3.05  | 43.20±4.60  | 0.54±0.03 | 0.53±0.03 | 0.50±0.03 | 0.57±0.05 | 0.47±0.03 | 0.46±0.03 | 0.50±0.03 |\n",
            "| 25 |         6         |  SCRUB   | 0.52±0.04 | 53.00±4.06  | 51.40±5.90  | 47.00±4.06  | 48.60±5.90  | 0.52±0.04 | 0.52±0.05 | 0.53±0.04 | 0.51±0.06 | 0.48±0.05 | 0.48±0.04 | 0.47±0.04 |\n",
            "| 26 |         6         | BadTeach | 0.49±0.03 | 58.60±6.66  | 39.20±5.26  | 41.40±6.66  | 60.80±5.26  | 0.49±0.02 | 0.49±0.03 | 0.59±0.07 | 0.39±0.05 | 0.51±0.03 | 0.51±0.02 | 0.41±0.07 |\n",
            "| 27 |         6         |   SSD    | 0.52±0.03 | 45.00±3.74  | 59.80±6.65  | 55.00±3.74  | 40.20±6.65  | 0.53±0.04 | 0.52±0.02 | 0.45±0.04 | 0.60±0.07 | 0.48±0.02 | 0.47±0.04 | 0.55±0.04 |\n",
            "| 28 |         7         | retrain  | 0.51±0.02 | 44.60±6.35  | 58.20±3.63  | 55.40±6.35  | 41.80±3.63  | 0.51±0.02 | 0.51±0.02 | 0.45±0.06 | 0.58±0.04 | 0.49±0.02 | 0.49±0.02 | 0.55±0.06 |\n",
            "| 29 |         7         |  SCRUB   | 0.50±0.04 | 50.00±6.12  | 50.20±4.76  | 50.00±6.12  | 49.80±4.76  | 0.50±0.04 | 0.50±0.04 | 0.50±0.06 | 0.50±0.05 | 0.50±0.04 | 0.50±0.04 | 0.50±0.06 |\n",
            "| 30 |         7         | BadTeach | 0.55±0.04 | 64.20±8.32  | 45.00±2.74  | 35.80±8.32  | 55.00±2.74  | 0.54±0.03 | 0.56±0.06 | 0.64±0.08 | 0.45±0.03 | 0.44±0.06 | 0.46±0.03 | 0.36±0.08 |\n",
            "| 31 |         7         |   SSD    | 0.52±0.03 | 42.20±5.63  | 62.00±3.16  | 57.80±5.63  | 38.00±3.16  | 0.52±0.04 | 0.52±0.03 | 0.42±0.06 | 0.62±0.03 | 0.48±0.03 | 0.48±0.04 | 0.58±0.06 |\n",
            "| 32 |         8         | retrain  | 0.54±0.02 | 45.40±2.70  | 62.00±3.08  | 54.60±2.70  | 38.00±3.08  | 0.54±0.03 | 0.53±0.02 | 0.45±0.03 | 0.62±0.03 | 0.47±0.02 | 0.46±0.03 | 0.55±0.03 |\n",
            "| 33 |         8         |  SCRUB   | 0.56±0.02 | 48.20±4.87  | 63.60±3.36  | 51.80±4.87  | 36.40±3.36  | 0.57±0.02 | 0.55±0.02 | 0.48±0.05 | 0.64±0.03 | 0.45±0.02 | 0.43±0.02 | 0.52±0.05 |\n",
            "| 34 |         8         | BadTeach | 0.48±0.02 | 67.40±18.51 | 29.00±16.32 | 32.60±18.51 | 71.00±16.32 | 0.49±0.02 | 0.38±0.21 | 0.67±0.19 | 0.29±0.16 | 0.42±0.24 | 0.51±0.02 | 0.33±0.19 |\n",
            "| 35 |         8         |   SSD    | 0.47±0.04 | 53.40±7.30  | 41.20±4.32  | 46.60±7.30  | 58.80±4.32  | 0.47±0.04 | 0.47±0.04 | 0.53±0.07 | 0.41±0.04 | 0.53±0.04 | 0.53±0.04 | 0.47±0.07 |\n",
            "| 36 |         9         | retrain  | 0.55±0.03 | 44.20±7.53  | 66.20±3.90  | 55.80±7.53  | 33.80±3.90  | 0.56±0.04 | 0.54±0.03 | 0.44±0.08 | 0.66±0.04 | 0.46±0.03 | 0.44±0.04 | 0.56±0.08 |\n",
            "| 37 |         9         |  SCRUB   | 0.55±0.02 | 46.40±2.30  | 63.00±3.67  | 53.60±2.30  | 37.00±3.67  | 0.56±0.03 | 0.54±0.02 | 0.46±0.02 | 0.63±0.04 | 0.46±0.02 | 0.44±0.03 | 0.54±0.02 |\n",
            "| 38 |         9         | BadTeach | 0.54±0.02 | 53.80±4.60  | 54.80±5.02  | 46.20±4.60  | 45.20±5.02  | 0.54±0.02 | 0.54±0.02 | 0.54±0.05 | 0.55±0.05 | 0.46±0.02 | 0.46±0.02 | 0.46±0.05 |\n",
            "| 39 |         9         |   SSD    | 0.53±0.02 | 53.60±2.41  | 52.40±3.85  | 46.40±2.41  | 47.60±3.85  | 0.53±0.02 | 0.53±0.02 | 0.54±0.02 | 0.52±0.04 | 0.47±0.02 | 0.47±0.02 | 0.46±0.02 |\n",
            "+----+-------------------+----------+-----------+-------------+-------------+-------------+-------------+-----------+-----------+-----------+-----------+-----------+-----------+-----------+\n"
          ]
        }
      ],
      "source": [
        "!python /content/Unlearning-MIA-Eval/Final_Structure/experiments.py cifar10"
      ]
    },
    {
      "cell_type": "code",
      "execution_count": null,
      "metadata": {
        "id": "Tnp7VEdGi1up"
      },
      "outputs": [],
      "source": [
        "from google.colab import runtime\n",
        "runtime.unassign()"
      ]
    }
  ]
}