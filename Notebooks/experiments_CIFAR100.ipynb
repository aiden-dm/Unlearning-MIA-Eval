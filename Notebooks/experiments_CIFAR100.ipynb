{
  "cells": [
    {
      "cell_type": "markdown",
      "metadata": {
        "id": "IsdqVO9wrM6u"
      },
      "source": [
        "## Experiments Notebook File"
      ]
    },
    {
      "cell_type": "markdown",
      "metadata": {
        "id": "1qieF3pjrSrh"
      },
      "source": [
        "Run the following command to mount your Google Drive, so that you have a permanent destination to store files generated during the experiment."
      ]
    },
    {
      "cell_type": "code",
      "execution_count": null,
      "metadata": {
        "colab": {
          "base_uri": "https://localhost:8080/"
        },
        "id": "usWNBmoSoffT",
        "outputId": "e54104ad-060c-4200-b39a-5ef3a80330d3"
      },
      "outputs": [
        {
          "output_type": "stream",
          "name": "stdout",
          "text": [
            "Mounted at /content/drive\n"
          ]
        }
      ],
      "source": [
        "from google.colab import drive\n",
        "drive.mount('/content/drive')"
      ]
    },
    {
      "cell_type": "markdown",
      "metadata": {
        "id": "ws9YE1tjrYsH"
      },
      "source": [
        "Run the following command to clone our machine learning framework into your local environment."
      ]
    },
    {
      "cell_type": "code",
      "execution_count": null,
      "metadata": {
        "colab": {
          "base_uri": "https://localhost:8080/"
        },
        "id": "JutEHOdWpdqg",
        "outputId": "e3ddcdda-b0dc-488b-ef3f-2d38178f6ca8"
      },
      "outputs": [
        {
          "output_type": "stream",
          "name": "stdout",
          "text": [
            "Cloning into 'Unlearning-MIA-Eval'...\n",
            "remote: Enumerating objects: 453, done.\u001b[K\n",
            "remote: Counting objects: 100% (87/87), done.\u001b[K\n",
            "remote: Compressing objects: 100% (59/59), done.\u001b[K\n",
            "remote: Total 453 (delta 58), reused 53 (delta 28), pack-reused 366 (from 1)\u001b[K\n",
            "Receiving objects: 100% (453/453), 249.40 MiB | 50.85 MiB/s, done.\n",
            "Resolving deltas: 100% (283/283), done.\n",
            "Updating files: 100% (20/20), done.\n",
            "Submodule 'Third_Party_Code/BadTeach' (https://github.com/aiden-dm/bad-teaching-unlearning) registered for path 'Third_Party_Code/BadTeach'\n",
            "Submodule 'Third_Party_Code/SCRUB' (https://github.com/aiden-dm/SCRUB) registered for path 'Third_Party_Code/SCRUB'\n",
            "Submodule 'Third_Party_Code/SSD' (https://github.com/aiden-dm/selective-synaptic-dampening) registered for path 'Third_Party_Code/SSD'\n",
            "Cloning into '/content/Unlearning-MIA-Eval/Third_Party_Code/BadTeach'...\n",
            "remote: Enumerating objects: 69, done.        \n",
            "remote: Counting objects: 100% (69/69), done.        \n",
            "remote: Compressing objects: 100% (64/64), done.        \n",
            "remote: Total 69 (delta 37), reused 12 (delta 4), pack-reused 0 (from 0)        \n",
            "Receiving objects: 100% (69/69), 24.48 KiB | 24.48 MiB/s, done.\n",
            "Resolving deltas: 100% (37/37), done.\n",
            "Cloning into '/content/Unlearning-MIA-Eval/Third_Party_Code/SCRUB'...\n",
            "remote: Enumerating objects: 110, done.        \n",
            "remote: Counting objects: 100% (110/110), done.        \n",
            "remote: Compressing objects: 100% (74/74), done.        \n",
            "remote: Total 110 (delta 41), reused 99 (delta 33), pack-reused 0 (from 0)        \n",
            "Receiving objects: 100% (110/110), 794.95 KiB | 5.37 MiB/s, done.\n",
            "Resolving deltas: 100% (41/41), done.\n",
            "Cloning into '/content/Unlearning-MIA-Eval/Third_Party_Code/SSD'...\n",
            "remote: Enumerating objects: 138, done.        \n",
            "remote: Counting objects: 100% (111/111), done.        \n",
            "remote: Compressing objects: 100% (59/59), done.        \n",
            "remote: Total 138 (delta 86), reused 63 (delta 52), pack-reused 27 (from 1)        \n",
            "Receiving objects: 100% (138/138), 50.44 KiB | 1.94 MiB/s, done.\n",
            "Resolving deltas: 100% (87/87), done.\n",
            "Submodule path 'Third_Party_Code/BadTeach': checked out 'c224be552189acc7e3fa7e64b2a7e63452120bf7'\n",
            "Submodule path 'Third_Party_Code/SCRUB': checked out '98ffb1196ffbec2665092598c13ad3b6ec3d095d'\n",
            "Submodule path 'Third_Party_Code/SSD': checked out 'ea39ca68128e9c1e98c5dcff9daa5990be328eca'\n"
          ]
        }
      ],
      "source": [
        "!git clone --recurse-submodules https://github.com/aiden-dm/Unlearning-MIA-Eval.git"
      ]
    },
    {
      "cell_type": "markdown",
      "metadata": {
        "id": "5kZw6zDMrhZ4"
      },
      "source": [
        "If you ever need to delete the cloned repository for re-cloning, the following command can be used to delete the local version of the framework."
      ]
    },
    {
      "cell_type": "code",
      "execution_count": null,
      "metadata": {
        "id": "yoa7TrOEpf7y"
      },
      "outputs": [],
      "source": [
        "!rm -rf /content/Unlearning-MIA-Eval"
      ]
    },
    {
      "cell_type": "markdown",
      "metadata": {
        "id": "DSjt6KcBrphb"
      },
      "source": [
        "Run the following code to add the /content/Unlearning-MIA-Eval/ directory to Python's module search path so you can import local files from the unlearning framework as if they were installed packages."
      ]
    },
    {
      "cell_type": "code",
      "execution_count": null,
      "metadata": {
        "id": "D_PO3EKtpgdj"
      },
      "outputs": [],
      "source": [
        "import sys\n",
        "\n",
        "# Adding the local files to the system path\n",
        "sys.path.append('/content/Unlearning-MIA-Eval/')"
      ]
    },
    {
      "cell_type": "code",
      "execution_count": null,
      "metadata": {
        "colab": {
          "base_uri": "https://localhost:8080/"
        },
        "id": "22SGiHwJpjqW",
        "outputId": "2bc06ff1-65e6-48e6-a54d-880449ca6472"
      },
      "outputs": [
        {
          "output_type": "stream",
          "name": "stdout",
          "text": [
            "Using dataset: cifar100\n",
            "100% 169M/169M [00:02<00:00, 59.6MB/s]\n",
            "No need to train ResNet on full train set, as a checkpoint already exists!\n",
            "Retrain Unlearning Unnecessary, Checkpoint Exists for Class/Classes 0-9\n",
            "SCRUB Unlearning Unnecessary, Checkpoint Exists for Class Class/Classes 0-9\n",
            "BadTeach Unlearning Unnecessary, Checkpoint Exists for Class 0-9\n",
            "SSD Unlearning Unnecessary, Checkpoint Exists for Class 0-9\n",
            "Retrain Unlearning Unnecessary, Checkpoint Exists for Class/Classes 10-19\n",
            "SCRUB Unlearning Unnecessary, Checkpoint Exists for Class Class/Classes 10-19\n",
            "BadTeach Unlearning Unnecessary, Checkpoint Exists for Class 10-19\n",
            "SSD Unlearning Unnecessary, Checkpoint Exists for Class 10-19\n",
            "Retrain Unlearning Unnecessary, Checkpoint Exists for Class/Classes 20-29\n",
            "SCRUB Unlearning Unnecessary, Checkpoint Exists for Class Class/Classes 20-29\n",
            "BadTeach Unlearning Unnecessary, Checkpoint Exists for Class 20-29\n",
            "SSD Unlearning Unnecessary, Checkpoint Exists for Class 20-29\n",
            "Retrain Unlearning Unnecessary, Checkpoint Exists for Class/Classes 30-39\n",
            "SCRUB Unlearning Unnecessary, Checkpoint Exists for Class Class/Classes 30-39\n",
            "BadTeach Unlearning Unnecessary, Checkpoint Exists for Class 30-39\n",
            "SSD Unlearning Unnecessary, Checkpoint Exists for Class 30-39\n",
            "Retrain Unlearning Unnecessary, Checkpoint Exists for Class/Classes 40-49\n",
            "SCRUB Unlearning Unnecessary, Checkpoint Exists for Class Class/Classes 40-49\n",
            "BadTeach Unlearning Unnecessary, Checkpoint Exists for Class 40-49\n",
            "SSD Unlearning Unnecessary, Checkpoint Exists for Class 40-49\n",
            "Retrain Unlearning Unnecessary, Checkpoint Exists for Class/Classes 50-59\n",
            "SCRUB Unlearning Unnecessary, Checkpoint Exists for Class Class/Classes 50-59\n",
            "BadTeach Unlearning Unnecessary, Checkpoint Exists for Class 50-59\n",
            "SSD Unlearning Unnecessary, Checkpoint Exists for Class 50-59\n",
            "Retrain Unlearning Unnecessary, Checkpoint Exists for Class/Classes 60-69\n",
            "SCRUB Unlearning Unnecessary, Checkpoint Exists for Class Class/Classes 60-69\n",
            "BadTeach Unlearning Unnecessary, Checkpoint Exists for Class 60-69\n",
            "SSD Unlearning Unnecessary, Checkpoint Exists for Class 60-69\n",
            "Retrain Unlearning Unnecessary, Checkpoint Exists for Class/Classes 70-79\n",
            "SCRUB Unlearning Unnecessary, Checkpoint Exists for Class Class/Classes 70-79\n",
            "BadTeach Unlearning Unnecessary, Checkpoint Exists for Class 70-79\n",
            "SSD Unlearning Unnecessary, Checkpoint Exists for Class 70-79\n",
            "Retrain Unlearning Unnecessary, Checkpoint Exists for Class/Classes 80-89\n",
            "SCRUB Unlearning Unnecessary, Checkpoint Exists for Class Class/Classes 80-89\n",
            "BadTeach Unlearning Unnecessary, Checkpoint Exists for Class 80-89\n",
            "SSD Unlearning Unnecessary, Checkpoint Exists for Class 80-89\n",
            "Retrain Unlearning Unnecessary, Checkpoint Exists for Class/Classes 90-99\n",
            "SCRUB Unlearning Unnecessary, Checkpoint Exists for Class Class/Classes 90-99\n",
            "BadTeach Unlearning Unnecessary, Checkpoint Exists for Class 90-99\n",
            "SSD Unlearning Unnecessary, Checkpoint Exists for Class 90-99\n",
            "/content/Unlearning-MIA-Eval/Final_Structure/experiments.py:209: FutureWarning: The behavior of DataFrame concatenation with empty or all-NA entries is deprecated. In a future version, this will no longer exclude empty or all-NA columns when determining the result dtypes. To retain the old behavior, exclude the relevant entries before the concat operation.\n",
            "  r_performance_df = pd.concat([r_performance_df, pd.DataFrame([r_row])], ignore_index=True)\n",
            "/content/Unlearning-MIA-Eval/Final_Structure/experiments.py:210: FutureWarning: The behavior of DataFrame concatenation with empty or all-NA entries is deprecated. In a future version, this will no longer exclude empty or all-NA columns when determining the result dtypes. To retain the old behavior, exclude the relevant entries before the concat operation.\n",
            "  f_performance_df = pd.concat([f_performance_df, pd.DataFrame([f_row])], ignore_index=True)\n",
            "/content/Unlearning-MIA-Eval/Final_Structure/experiments.py:209: FutureWarning: The behavior of DataFrame concatenation with empty or all-NA entries is deprecated. In a future version, this will no longer exclude empty or all-NA columns when determining the result dtypes. To retain the old behavior, exclude the relevant entries before the concat operation.\n",
            "  r_performance_df = pd.concat([r_performance_df, pd.DataFrame([r_row])], ignore_index=True)\n",
            "/content/Unlearning-MIA-Eval/Final_Structure/experiments.py:210: FutureWarning: The behavior of DataFrame concatenation with empty or all-NA entries is deprecated. In a future version, this will no longer exclude empty or all-NA columns when determining the result dtypes. To retain the old behavior, exclude the relevant entries before the concat operation.\n",
            "  f_performance_df = pd.concat([f_performance_df, pd.DataFrame([f_row])], ignore_index=True)\n",
            "+----+-------------------+----------+----------+-----------+--------+----------+\n",
            "|    | Forgotten Classes |  Method  | Accuracy | Precision | Recall | F1 Score |\n",
            "+----+-------------------+----------+----------+-----------+--------+----------+\n",
            "| 0  |        0-9        | retrain  |   0.94   |   0.95    |  0.94  |   0.94   |\n",
            "| 1  |        0-9        |  SCRUB   |   0.91   |   0.91    |  0.91  |   0.91   |\n",
            "| 2  |        0-9        | BadTeach |   0.83   |   0.76    |  0.75  |   0.75   |\n",
            "| 3  |        0-9        |   SSD    |   0.85   |   0.78    |  0.77  |   0.77   |\n",
            "| 4  |       10-19       | retrain  |   0.95   |   0.95    |  0.95  |   0.95   |\n",
            "| 5  |       10-19       |  SCRUB   |   0.92   |   0.92    |  0.92  |   0.92   |\n",
            "| 6  |       10-19       | BadTeach |   0.83   |   0.76    |  0.75  |   0.76   |\n",
            "| 7  |       10-19       |   SSD    |   0.81   |   0.78    |  0.74  |   0.75   |\n",
            "| 8  |       20-29       | retrain  |   0.95   |   0.95    |  0.95  |   0.95   |\n",
            "| 9  |       20-29       |  SCRUB   |   0.91   |   0.91    |  0.91  |   0.91   |\n",
            "| 10 |       20-29       | BadTeach |   0.83   |   0.76    |  0.75  |   0.76   |\n",
            "| 11 |       20-29       |   SSD    |   0.85   |   0.78    |  0.77  |   0.77   |\n",
            "| 12 |       30-39       | retrain  |   0.95   |   0.95    |  0.95  |   0.95   |\n",
            "| 13 |       30-39       |  SCRUB   |   0.91   |   0.91    |  0.91  |   0.91   |\n",
            "| 14 |       30-39       | BadTeach |   0.82   |   0.76    |  0.74  |   0.75   |\n",
            "| 15 |       30-39       |   SSD    |   0.78   |   0.73    |  0.71  |   0.71   |\n",
            "| 16 |       40-49       | retrain  |   0.95   |   0.95    |  0.95  |   0.95   |\n",
            "| 17 |       40-49       |  SCRUB   |   0.91   |   0.91    |  0.91  |   0.91   |\n",
            "| 18 |       40-49       | BadTeach |   0.83   |   0.76    |  0.75  |   0.75   |\n",
            "| 19 |       40-49       |   SSD    |   0.83   |   0.78    |  0.76  |   0.77   |\n",
            "| 20 |       50-59       | retrain  |   0.95   |   0.95    |  0.95  |   0.95   |\n",
            "| 21 |       50-59       |  SCRUB   |   0.91   |   0.91    |  0.91  |   0.91   |\n",
            "| 22 |       50-59       | BadTeach |   0.84   |   0.77    |  0.75  |   0.76   |\n",
            "| 23 |       50-59       |   SSD    |   0.84   |   0.78    |  0.77  |   0.77   |\n",
            "| 24 |       60-69       | retrain  |   0.95   |   0.95    |  0.95  |   0.95   |\n",
            "| 25 |       60-69       |  SCRUB   |   0.91   |   0.91    |  0.91  |   0.91   |\n",
            "| 26 |       60-69       | BadTeach |   0.84   |   0.76    |  0.75  |   0.76   |\n",
            "| 27 |       60-69       |   SSD    |   0.82   |   0.75    |  0.74  |   0.74   |\n",
            "| 28 |       70-79       | retrain  |   0.95   |   0.95    |  0.95  |   0.95   |\n",
            "| 29 |       70-79       |  SCRUB   |   0.91   |   0.91    |  0.91  |   0.91   |\n",
            "| 30 |       70-79       | BadTeach |   0.83   |   0.76    |  0.75  |   0.75   |\n",
            "| 31 |       70-79       |   SSD    |   0.85   |   0.77    |  0.76  |   0.77   |\n",
            "| 32 |       80-89       | retrain  |   0.95   |   0.95    |  0.95  |   0.95   |\n",
            "| 33 |       80-89       |  SCRUB   |   0.92   |   0.92    |  0.92  |   0.92   |\n",
            "| 34 |       80-89       | BadTeach |   0.83   |   0.76    |  0.75  |   0.75   |\n",
            "| 35 |       80-89       |   SSD    |   0.78   |   0.74    |  0.7   |   0.72   |\n",
            "| 36 |       90-99       | retrain  |   0.95   |   0.95    |  0.95  |   0.95   |\n",
            "| 37 |       90-99       |  SCRUB   |   0.91   |   0.91    |  0.91  |   0.91   |\n",
            "| 38 |       90-99       | BadTeach |   0.83   |   0.76    |  0.75  |   0.75   |\n",
            "| 39 |       90-99       |   SSD    |   0.83   |   0.77    |  0.75  |   0.75   |\n",
            "+----+-------------------+----------+----------+-----------+--------+----------+\n",
            "\n",
            "+----+-------------------+----------+----------+-----------+--------+----------+\n",
            "|    | Forgotten Classes |  Method  | Accuracy | Precision | Recall | F1 Score |\n",
            "+----+-------------------+----------+----------+-----------+--------+----------+\n",
            "| 0  |        0-9        | retrain  |   0.0    |    0.0    |  0.0   |   0.0    |\n",
            "| 1  |        0-9        |  SCRUB   |   0.0    |    0.0    |  0.0   |   0.0    |\n",
            "| 2  |        0-9        | BadTeach |   0.17   |   0.09    |  0.02  |   0.03   |\n",
            "| 3  |        0-9        |   SSD    |   0.27   |   0.09    |  0.03  |   0.04   |\n",
            "| 4  |       10-19       | retrain  |   0.0    |    0.0    |  0.0   |   0.0    |\n",
            "| 5  |       10-19       |  SCRUB   |   0.0    |    0.0    |  0.0   |   0.0    |\n",
            "| 6  |       10-19       | BadTeach |   0.17   |   0.09    |  0.02  |   0.03   |\n",
            "| 7  |       10-19       |   SSD    |   0.22   |   0.09    |  0.02  |   0.02   |\n",
            "| 8  |       20-29       | retrain  |   0.0    |    0.0    |  0.0   |   0.0    |\n",
            "| 9  |       20-29       |  SCRUB   |   0.0    |    0.0    |  0.0   |   0.0    |\n",
            "| 10 |       20-29       | BadTeach |   0.21   |   0.09    |  0.02  |   0.03   |\n",
            "| 11 |       20-29       |   SSD    |   0.3    |   0.09    |  0.03  |   0.04   |\n",
            "| 12 |       30-39       | retrain  |   0.0    |    0.0    |  0.0   |   0.0    |\n",
            "| 13 |       30-39       |  SCRUB   |   0.0    |    0.0    |  0.0   |   0.0    |\n",
            "| 14 |       30-39       | BadTeach |   0.27   |   0.09    |  0.03  |   0.04   |\n",
            "| 15 |       30-39       |   SSD    |   0.26   |   0.09    |  0.03  |   0.04   |\n",
            "| 16 |       40-49       | retrain  |   0.0    |    0.0    |  0.0   |   0.0    |\n",
            "| 17 |       40-49       |  SCRUB   |   0.0    |    0.0    |  0.0   |   0.0    |\n",
            "| 18 |       40-49       | BadTeach |   0.24   |   0.09    |  0.02  |   0.04   |\n",
            "| 19 |       40-49       |   SSD    |   0.26   |   0.09    |  0.03  |   0.03   |\n",
            "| 20 |       50-59       | retrain  |   0.0    |    0.0    |  0.0   |   0.0    |\n",
            "| 21 |       50-59       |  SCRUB   |   0.0    |    0.0    |  0.0   |   0.0    |\n",
            "| 22 |       50-59       | BadTeach |   0.21   |   0.09    |  0.02  |   0.03   |\n",
            "| 23 |       50-59       |   SSD    |   0.27   |   0.09    |  0.03  |   0.04   |\n",
            "| 24 |       60-69       | retrain  |   0.0    |    0.0    |  0.0   |   0.0    |\n",
            "| 25 |       60-69       |  SCRUB   |   0.0    |    0.0    |  0.0   |   0.0    |\n",
            "| 26 |       60-69       | BadTeach |   0.15   |   0.09    |  0.02  |   0.03   |\n",
            "| 27 |       60-69       |   SSD    |   0.25   |    0.1    |  0.03  |   0.03   |\n",
            "| 28 |       70-79       | retrain  |   0.0    |    0.0    |  0.0   |   0.0    |\n",
            "| 29 |       70-79       |  SCRUB   |   0.0    |    0.0    |  0.0   |   0.0    |\n",
            "| 30 |       70-79       | BadTeach |   0.16   |   0.09    |  0.02  |   0.03   |\n",
            "| 31 |       70-79       |   SSD    |   0.27   |   0.09    |  0.03  |   0.04   |\n",
            "| 32 |       80-89       | retrain  |   0.0    |    0.0    |  0.0   |   0.0    |\n",
            "| 33 |       80-89       |  SCRUB   |   0.0    |    0.0    |  0.0   |   0.0    |\n",
            "| 34 |       80-89       | BadTeach |   0.17   |   0.09    |  0.02  |   0.03   |\n",
            "| 35 |       80-89       |   SSD    |   0.23   |   0.09    |  0.02  |   0.03   |\n",
            "| 36 |       90-99       | retrain  |   0.0    |    0.0    |  0.0   |   0.0    |\n",
            "| 37 |       90-99       |  SCRUB   |   0.0    |    0.0    |  0.0   |   0.0    |\n",
            "| 38 |       90-99       | BadTeach |   0.18   |   0.09    |  0.02  |   0.03   |\n",
            "| 39 |       90-99       |   SSD    |   0.1    |    0.1    |  0.01  |   0.02   |\n",
            "+----+-------------------+----------+----------+-----------+--------+----------+\n",
            "\n",
            "+----+-------------------+----------+----------+-----------+--------+----------+\n",
            "|    | Forgotten Classes |  Method  | Accuracy | Precision | Recall | F1 Score |\n",
            "+----+-------------------+----------+----------+-----------+--------+----------+\n",
            "| 0  |        0-9        | retrain  |   0.52   |   0.52    |  0.52  |   0.52   |\n",
            "| 1  |        0-9        |  SCRUB   |   0.54   |   0.54    |  0.54  |   0.54   |\n",
            "| 2  |        0-9        | BadTeach |   0.5    |   0.47    |  0.45  |   0.45   |\n",
            "| 3  |        0-9        |   SSD    |   0.49   |   0.47    |  0.44  |   0.45   |\n",
            "| 4  |       10-19       | retrain  |   0.53   |   0.54    |  0.53  |   0.53   |\n",
            "| 5  |       10-19       |  SCRUB   |   0.55   |   0.55    |  0.55  |   0.55   |\n",
            "| 6  |       10-19       | BadTeach |   0.51   |   0.48    |  0.46  |   0.47   |\n",
            "| 7  |       10-19       |   SSD    |   0.47   |   0.49    |  0.43  |   0.45   |\n",
            "| 8  |       20-29       | retrain  |   0.53   |   0.53    |  0.53  |   0.52   |\n",
            "| 9  |       20-29       |  SCRUB   |   0.53   |   0.54    |  0.53  |   0.53   |\n",
            "| 10 |       20-29       | BadTeach |   0.5    |   0.47    |  0.45  |   0.45   |\n",
            "| 11 |       20-29       |   SSD    |   0.49   |   0.46    |  0.44  |   0.44   |\n",
            "| 12 |       30-39       | retrain  |   0.54   |   0.54    |  0.54  |   0.53   |\n",
            "| 13 |       30-39       |  SCRUB   |   0.54   |   0.55    |  0.54  |   0.54   |\n",
            "| 14 |       30-39       | BadTeach |   0.5    |   0.47    |  0.45  |   0.45   |\n",
            "| 15 |       30-39       |   SSD    |   0.49   |   0.47    |  0.44  |   0.44   |\n",
            "| 16 |       40-49       | retrain  |   0.53   |   0.53    |  0.53  |   0.52   |\n",
            "| 17 |       40-49       |  SCRUB   |   0.54   |   0.54    |  0.54  |   0.54   |\n",
            "| 18 |       40-49       | BadTeach |   0.5    |   0.47    |  0.45  |   0.45   |\n",
            "| 19 |       40-49       |   SSD    |   0.49   |   0.47    |  0.45  |   0.45   |\n",
            "| 20 |       50-59       | retrain  |   0.52   |   0.53    |  0.52  |   0.52   |\n",
            "| 21 |       50-59       |  SCRUB   |   0.53   |   0.53    |  0.53  |   0.53   |\n",
            "| 22 |       50-59       | BadTeach |   0.5    |   0.47    |  0.45  |   0.45   |\n",
            "| 23 |       50-59       |   SSD    |   0.49   |   0.47    |  0.45  |   0.45   |\n",
            "| 24 |       60-69       | retrain  |   0.53   |   0.53    |  0.53  |   0.52   |\n",
            "| 25 |       60-69       |  SCRUB   |   0.53   |   0.53    |  0.53  |   0.53   |\n",
            "| 26 |       60-69       | BadTeach |   0.5    |   0.47    |  0.45  |   0.46   |\n",
            "| 27 |       60-69       |   SSD    |   0.48   |   0.47    |  0.44  |   0.45   |\n",
            "| 28 |       70-79       | retrain  |   0.53   |   0.54    |  0.53  |   0.53   |\n",
            "| 29 |       70-79       |  SCRUB   |   0.54   |   0.54    |  0.54  |   0.54   |\n",
            "| 30 |       70-79       | BadTeach |   0.49   |   0.47    |  0.44  |   0.45   |\n",
            "| 31 |       70-79       |   SSD    |   0.5    |   0.47    |  0.45  |   0.45   |\n",
            "| 32 |       80-89       | retrain  |   0.53   |   0.54    |  0.53  |   0.53   |\n",
            "| 33 |       80-89       |  SCRUB   |   0.53   |   0.54    |  0.53  |   0.53   |\n",
            "| 34 |       80-89       | BadTeach |   0.5    |   0.47    |  0.45  |   0.46   |\n",
            "| 35 |       80-89       |   SSD    |   0.46   |   0.47    |  0.42  |   0.43   |\n",
            "| 36 |       90-99       | retrain  |   0.53   |   0.53    |  0.53  |   0.52   |\n",
            "| 37 |       90-99       |  SCRUB   |   0.54   |   0.54    |  0.54  |   0.54   |\n",
            "| 38 |       90-99       | BadTeach |   0.5    |   0.46    |  0.45  |   0.45   |\n",
            "| 39 |       90-99       |   SSD    |   0.49   |   0.47    |  0.45  |   0.45   |\n",
            "+----+-------------------+----------+----------+-----------+--------+----------+\n",
            "\n",
            "+----+-------------------+----------+----------+-----------+--------+----------+\n",
            "|    | Forgotten Classes |  Method  | Accuracy | Precision | Recall | F1 Score |\n",
            "+----+-------------------+----------+----------+-----------+--------+----------+\n",
            "| 0  |        0-9        | retrain  |   0.0    |    0.0    |  0.0   |   0.0    |\n",
            "| 1  |        0-9        |  SCRUB   |   0.0    |    0.0    |  0.0   |   0.0    |\n",
            "| 2  |        0-9        | BadTeach |   0.09   |   0.08    |  0.01  |   0.02   |\n",
            "| 3  |        0-9        |   SSD    |   0.12   |   0.07    |  0.01  |   0.02   |\n",
            "| 4  |       10-19       | retrain  |   0.0    |    0.0    |  0.0   |   0.0    |\n",
            "| 5  |       10-19       |  SCRUB   |   0.0    |    0.0    |  0.0   |   0.0    |\n",
            "| 6  |       10-19       | BadTeach |   0.12   |   0.08    |  0.01  |   0.02   |\n",
            "| 7  |       10-19       |   SSD    |   0.13   |   0.07    |  0.01  |   0.01   |\n",
            "| 8  |       20-29       | retrain  |   0.0    |    0.0    |  0.0   |   0.0    |\n",
            "| 9  |       20-29       |  SCRUB   |   0.0    |    0.0    |  0.0   |   0.0    |\n",
            "| 10 |       20-29       | BadTeach |   0.14   |   0.08    |  0.01  |   0.02   |\n",
            "| 11 |       20-29       |   SSD    |   0.15   |   0.08    |  0.01  |   0.02   |\n",
            "| 12 |       30-39       | retrain  |   0.0    |    0.0    |  0.0   |   0.0    |\n",
            "| 13 |       30-39       |  SCRUB   |   0.0    |    0.0    |  0.0   |   0.0    |\n",
            "| 14 |       30-39       | BadTeach |   0.15   |   0.09    |  0.02  |   0.03   |\n",
            "| 15 |       30-39       |   SSD    |   0.12   |   0.09    |  0.01  |   0.02   |\n",
            "| 16 |       40-49       | retrain  |   0.0    |    0.0    |  0.0   |   0.0    |\n",
            "| 17 |       40-49       |  SCRUB   |   0.0    |    0.0    |  0.0   |   0.0    |\n",
            "| 18 |       40-49       | BadTeach |   0.14   |   0.08    |  0.01  |   0.02   |\n",
            "| 19 |       40-49       |   SSD    |   0.17   |   0.08    |  0.02  |   0.02   |\n",
            "| 20 |       50-59       | retrain  |   0.0    |    0.0    |  0.0   |   0.0    |\n",
            "| 21 |       50-59       |  SCRUB   |   0.0    |    0.0    |  0.0   |   0.0    |\n",
            "| 22 |       50-59       | BadTeach |   0.18   |   0.09    |  0.02  |   0.03   |\n",
            "| 23 |       50-59       |   SSD    |   0.18   |    0.1    |  0.02  |   0.03   |\n",
            "| 24 |       60-69       | retrain  |   0.0    |    0.0    |  0.0   |   0.0    |\n",
            "| 25 |       60-69       |  SCRUB   |   0.0    |    0.0    |  0.0   |   0.0    |\n",
            "| 26 |       60-69       | BadTeach |   0.12   |   0.09    |  0.01  |   0.02   |\n",
            "| 27 |       60-69       |   SSD    |   0.15   |   0.08    |  0.02  |   0.02   |\n",
            "| 28 |       70-79       | retrain  |   0.0    |    0.0    |  0.0   |   0.0    |\n",
            "| 29 |       70-79       |  SCRUB   |   0.0    |    0.0    |  0.0   |   0.0    |\n",
            "| 30 |       70-79       | BadTeach |   0.13   |   0.08    |  0.01  |   0.02   |\n",
            "| 31 |       70-79       |   SSD    |   0.14   |   0.08    |  0.01  |   0.02   |\n",
            "| 32 |       80-89       | retrain  |   0.0    |    0.0    |  0.0   |   0.0    |\n",
            "| 33 |       80-89       |  SCRUB   |   0.0    |    0.0    |  0.0   |   0.0    |\n",
            "| 34 |       80-89       | BadTeach |   0.12   |   0.09    |  0.01  |   0.02   |\n",
            "| 35 |       80-89       |   SSD    |   0.15   |   0.09    |  0.02  |   0.02   |\n",
            "| 36 |       90-99       | retrain  |   0.0    |    0.0    |  0.0   |   0.0    |\n",
            "| 37 |       90-99       |  SCRUB   |   0.0    |    0.0    |  0.0   |   0.0    |\n",
            "| 38 |       90-99       | BadTeach |   0.12   |   0.09    |  0.01  |   0.02   |\n",
            "| 39 |       90-99       |   SSD    |   0.05   |   0.07    |  0.01  |   0.01   |\n",
            "+----+-------------------+----------+----------+-----------+--------+----------+\n",
            "\n",
            "+----+-------------------+----------+-----------+------------+------------+------------+------------+-----------+-----------+-----------+-----------+-----------+-----------+-----------+\n",
            "|    | Forgotten Classes |  Method  |    ACC    |     TP     |     TN     |     FP     |     FN     |    TPR    |    TNR    |    PPV    |    NPV    |    FPR    |    FNR    |    FDR    |\n",
            "+----+-------------------+----------+-----------+------------+------------+------------+------------+-----------+-----------+-----------+-----------+-----------+-----------+-----------+\n",
            "| 0  |        0-9        | retrain  | 0.55±0.03 | 50.00±4.30 | 60.40±5.55 | 50.00±4.30 | 39.60±5.55 | 0.56±0.04 | 0.55±0.03 | 0.50±0.04 | 0.60±0.06 | 0.45±0.03 | 0.44±0.04 | 0.50±0.04 |\n",
            "| 1  |        0-9        |  SCRUB   | 0.52±0.04 | 34.00±5.10 | 70.40±7.40 | 66.00±5.10 | 29.60±7.40 | 0.54±0.07 | 0.52±0.03 | 0.34±0.05 | 0.70±0.07 | 0.48±0.03 | 0.46±0.07 | 0.66±0.05 |\n",
            "| 2  |        0-9        | BadTeach | 0.50±0.05 | 53.60±5.18 | 46.80±7.33 | 46.40±5.18 | 53.20±7.33 | 0.50±0.05 | 0.50±0.06 | 0.54±0.05 | 0.47±0.07 | 0.50±0.06 | 0.50±0.05 | 0.46±0.05 |\n",
            "| 3  |        0-9        |   SSD    | 0.63±0.01 | 58.80±2.28 | 66.60±2.88 | 41.20±2.28 | 33.40±2.88 | 0.64±0.02 | 0.62±0.01 | 0.59±0.02 | 0.67±0.03 | 0.38±0.01 | 0.36±0.02 | 0.41±0.02 |\n",
            "| 4  |       10-19       | retrain  | 0.53±0.04 | 45.80±3.35 | 60.00±8.57 | 54.20±3.35 | 40.00±8.57 | 0.54±0.05 | 0.52±0.03 | 0.46±0.03 | 0.60±0.09 | 0.48±0.03 | 0.46±0.05 | 0.54±0.03 |\n",
            "| 5  |       10-19       |  SCRUB   | 0.51±0.02 | 36.80±6.06 | 65.80±7.05 | 63.20±6.06 | 34.20±7.05 | 0.52±0.03 | 0.51±0.02 | 0.37±0.06 | 0.66±0.07 | 0.49±0.02 | 0.48±0.03 | 0.63±0.06 |\n",
            "| 6  |       10-19       | BadTeach | 0.56±0.04 | 56.80±3.19 | 54.80±6.02 | 43.20±3.19 | 45.20±6.02 | 0.56±0.04 | 0.56±0.04 | 0.57±0.03 | 0.55±0.06 | 0.44±0.04 | 0.44±0.04 | 0.43±0.03 |\n",
            "| 7  |       10-19       |   SSD    | 0.64±0.04 | 58.80±3.42 | 69.20±7.79 | 41.20±3.42 | 30.80±7.79 | 0.66±0.06 | 0.63±0.03 | 0.59±0.03 | 0.69±0.08 | 0.37±0.03 | 0.34±0.06 | 0.41±0.03 |\n",
            "| 8  |       20-29       | retrain  | 0.55±0.04 | 49.20±2.68 | 60.60±7.44 | 50.80±2.68 | 39.40±7.44 | 0.56±0.05 | 0.54±0.04 | 0.49±0.03 | 0.61±0.07 | 0.46±0.04 | 0.44±0.05 | 0.51±0.03 |\n",
            "| 9  |       20-29       |  SCRUB   | 0.53±0.03 | 36.60±4.77 | 70.00±4.00 | 63.40±4.77 | 30.00±4.00 | 0.55±0.04 | 0.52±0.02 | 0.37±0.05 | 0.70±0.04 | 0.48±0.02 | 0.45±0.04 | 0.63±0.05 |\n",
            "| 10 |       20-29       | BadTeach | 0.52±0.02 | 56.00±3.16 | 48.00±3.39 | 44.00±3.16 | 52.00±3.39 | 0.52±0.02 | 0.52±0.02 | 0.56±0.03 | 0.48±0.03 | 0.48±0.02 | 0.48±0.02 | 0.44±0.03 |\n",
            "| 11 |       20-29       |   SSD    | 0.63±0.05 | 55.00±3.08 | 71.00±8.40 | 45.00±3.08 | 29.00±8.40 | 0.66±0.07 | 0.61±0.04 | 0.55±0.03 | 0.71±0.08 | 0.39±0.04 | 0.34±0.07 | 0.45±0.03 |\n",
            "| 12 |       30-39       | retrain  | 0.55±0.02 | 49.20±1.30 | 60.00±4.64 | 50.80±1.30 | 40.00±4.64 | 0.55±0.03 | 0.54±0.02 | 0.49±0.01 | 0.60±0.05 | 0.46±0.02 | 0.45±0.03 | 0.51±0.01 |\n",
            "| 13 |       30-39       |  SCRUB   | 0.50±0.04 | 38.60±3.05 | 62.00±7.52 | 61.40±3.05 | 38.00±7.52 | 0.51±0.06 | 0.50±0.04 | 0.39±0.03 | 0.62±0.08 | 0.50±0.04 | 0.49±0.06 | 0.61±0.03 |\n",
            "| 14 |       30-39       | BadTeach | 0.60±0.04 | 60.20±4.32 | 59.60±3.58 | 39.80±4.32 | 40.40±3.58 | 0.60±0.04 | 0.60±0.04 | 0.60±0.04 | 0.60±0.04 | 0.40±0.04 | 0.40±0.04 | 0.40±0.04 |\n",
            "| 15 |       30-39       |   SSD    | 0.67±0.03 | 62.00±4.00 | 71.80±3.35 | 38.00±4.00 | 28.20±3.35 | 0.69±0.03 | 0.65±0.03 | 0.62±0.04 | 0.72±0.03 | 0.35±0.03 | 0.31±0.03 | 0.38±0.04 |\n",
            "| 16 |       40-49       | retrain  | 0.54±0.04 | 45.60±3.91 | 63.20±4.49 | 54.40±3.91 | 36.80±4.49 | 0.55±0.05 | 0.54±0.03 | 0.46±0.04 | 0.63±0.04 | 0.46±0.03 | 0.45±0.05 | 0.54±0.04 |\n",
            "| 17 |       40-49       |  SCRUB   | 0.54±0.03 | 33.80±3.49 | 74.40±5.86 | 66.20±3.49 | 25.60±5.86 | 0.57±0.04 | 0.53±0.02 | 0.34±0.03 | 0.74±0.06 | 0.47±0.02 | 0.43±0.04 | 0.66±0.03 |\n",
            "| 18 |       40-49       | BadTeach | 0.57±0.04 | 58.20±4.15 | 55.40±6.35 | 41.80±4.15 | 44.60±6.35 | 0.57±0.04 | 0.57±0.05 | 0.58±0.04 | 0.55±0.06 | 0.43±0.05 | 0.43±0.04 | 0.42±0.04 |\n",
            "| 19 |       40-49       |   SSD    | 0.60±0.03 | 52.20±3.11 | 67.40±5.41 | 47.80±3.11 | 32.60±5.41 | 0.62±0.04 | 0.58±0.02 | 0.52±0.03 | 0.67±0.05 | 0.42±0.02 | 0.38±0.04 | 0.48±0.03 |\n",
            "| 20 |       50-59       | retrain  | 0.53±0.04 | 44.80±5.36 | 61.00±3.67 | 55.20±5.36 | 39.00±3.67 | 0.53±0.04 | 0.53±0.03 | 0.45±0.05 | 0.61±0.04 | 0.47±0.03 | 0.47±0.04 | 0.55±0.05 |\n",
            "| 21 |       50-59       |  SCRUB   | 0.50±0.03 | 42.40±4.45 | 58.40±5.03 | 57.60±4.45 | 41.60±5.03 | 0.51±0.04 | 0.50±0.03 | 0.42±0.04 | 0.58±0.05 | 0.50±0.03 | 0.49±0.04 | 0.58±0.04 |\n",
            "| 22 |       50-59       | BadTeach | 0.52±0.04 | 54.20±3.11 | 50.60±6.99 | 45.80±3.11 | 49.40±6.99 | 0.52±0.04 | 0.52±0.04 | 0.54±0.03 | 0.51±0.07 | 0.48±0.04 | 0.48±0.04 | 0.46±0.03 |\n",
            "| 23 |       50-59       |   SSD    | 0.60±0.02 | 55.40±4.83 | 65.40±3.21 | 44.60±4.83 | 34.60±3.21 | 0.62±0.02 | 0.60±0.02 | 0.55±0.05 | 0.65±0.03 | 0.40±0.02 | 0.38±0.02 | 0.45±0.05 |\n",
            "| 24 |       60-69       | retrain  | 0.54±0.02 | 50.00±2.74 | 58.40±2.79 | 50.00±2.74 | 41.60±2.79 | 0.55±0.02 | 0.54±0.02 | 0.50±0.03 | 0.58±0.03 | 0.46±0.02 | 0.45±0.02 | 0.50±0.03 |\n",
            "| 25 |       60-69       |  SCRUB   | 0.49±0.04 | 35.80±2.77 | 61.80±4.76 | 64.20±2.77 | 38.20±4.76 | 0.48±0.05 | 0.49±0.03 | 0.36±0.03 | 0.62±0.05 | 0.51±0.03 | 0.52±0.05 | 0.64±0.03 |\n",
            "| 26 |       60-69       | BadTeach | 0.51±0.05 | 57.60±6.27 | 44.00±6.36 | 42.40±6.27 | 56.00±6.36 | 0.51±0.04 | 0.51±0.05 | 0.58±0.06 | 0.44±0.06 | 0.49±0.05 | 0.49±0.04 | 0.42±0.06 |\n",
            "| 27 |       60-69       |   SSD    | 0.60±0.01 | 57.00±3.54 | 64.00±2.92 | 43.00±3.54 | 36.00±2.92 | 0.61±0.02 | 0.60±0.01 | 0.57±0.04 | 0.64±0.03 | 0.40±0.01 | 0.39±0.02 | 0.43±0.04 |\n",
            "| 28 |       70-79       | retrain  | 0.54±0.03 | 47.60±5.77 | 61.20±5.72 | 52.40±5.77 | 38.80±5.72 | 0.55±0.04 | 0.54±0.03 | 0.48±0.06 | 0.61±0.06 | 0.46±0.03 | 0.45±0.04 | 0.52±0.06 |\n",
            "| 29 |       70-79       |  SCRUB   | 0.51±0.00 | 37.40±5.41 | 65.00±5.00 | 62.60±5.41 | 35.00±5.00 | 0.52±0.01 | 0.51±0.00 | 0.37±0.05 | 0.65±0.05 | 0.49±0.00 | 0.48±0.01 | 0.63±0.05 |\n",
            "| 30 |       70-79       | BadTeach | 0.51±0.04 | 55.20±3.90 | 47.00±5.10 | 44.80±3.90 | 53.00±5.10 | 0.51±0.04 | 0.51±0.04 | 0.55±0.04 | 0.47±0.05 | 0.49±0.04 | 0.49±0.04 | 0.45±0.04 |\n",
            "| 31 |       70-79       |   SSD    | 0.61±0.02 | 57.60±3.78 | 65.40±4.39 | 42.40±3.78 | 34.60±4.39 | 0.63±0.02 | 0.61±0.02 | 0.58±0.04 | 0.65±0.04 | 0.39±0.02 | 0.37±0.02 | 0.42±0.04 |\n",
            "| 32 |       80-89       | retrain  | 0.55±0.05 | 48.40±4.34 | 61.00±6.52 | 51.60±4.34 | 39.00±6.52 | 0.56±0.06 | 0.54±0.04 | 0.48±0.04 | 0.61±0.07 | 0.46±0.04 | 0.44±0.06 | 0.52±0.04 |\n",
            "| 33 |       80-89       |  SCRUB   | 0.51±0.01 | 33.80±2.17 | 68.40±4.28 | 66.20±2.17 | 31.60±4.28 | 0.52±0.02 | 0.51±0.01 | 0.34±0.02 | 0.68±0.04 | 0.49±0.01 | 0.48±0.02 | 0.66±0.02 |\n",
            "| 34 |       80-89       | BadTeach | 0.54±0.04 | 58.60±4.16 | 50.00±6.20 | 41.40±4.16 | 50.00±6.20 | 0.54±0.04 | 0.55±0.04 | 0.59±0.04 | 0.50±0.06 | 0.45±0.04 | 0.46±0.04 | 0.41±0.04 |\n",
            "| 35 |       80-89       |   SSD    | 0.60±0.02 | 58.20±1.92 | 62.40±2.41 | 41.80±1.92 | 37.60±2.41 | 0.61±0.02 | 0.60±0.02 | 0.58±0.02 | 0.62±0.02 | 0.40±0.02 | 0.39±0.02 | 0.42±0.02 |\n",
            "| 36 |       90-99       | retrain  | 0.51±0.04 | 45.00±2.45 | 58.00±7.25 | 55.00±2.45 | 42.00±7.25 | 0.52±0.04 | 0.51±0.03 | 0.45±0.02 | 0.58±0.07 | 0.49±0.03 | 0.48±0.04 | 0.55±0.02 |\n",
            "| 37 |       90-99       |  SCRUB   | 0.51±0.04 | 35.40±3.85 | 66.80±5.76 | 64.60±3.85 | 33.20±5.76 | 0.52±0.06 | 0.51±0.03 | 0.35±0.04 | 0.67±0.06 | 0.49±0.03 | 0.48±0.06 | 0.65±0.04 |\n",
            "| 38 |       90-99       | BadTeach | 0.59±0.00 | 59.80±3.70 | 59.20±3.83 | 40.20±3.70 | 40.80±3.83 | 0.59±0.01 | 0.60±0.01 | 0.60±0.04 | 0.59±0.04 | 0.40±0.01 | 0.41±0.01 | 0.40±0.04 |\n",
            "| 39 |       90-99       |   SSD    | 0.57±0.01 | 50.80±3.96 | 63.60±5.18 | 49.20±3.96 | 36.40±5.18 | 0.58±0.02 | 0.56±0.01 | 0.51±0.04 | 0.64±0.05 | 0.44±0.01 | 0.42±0.02 | 0.49±0.04 |\n",
            "+----+-------------------+----------+-----------+------------+------------+------------+------------+-----------+-----------+-----------+-----------+-----------+-----------+-----------+\n"
          ]
        }
      ],
      "source": [
        "!python /content/Unlearning-MIA-Eval/Final_Structure/experiments.py cifar100"
      ]
    },
    {
      "cell_type": "code",
      "execution_count": null,
      "metadata": {
        "id": "Tnp7VEdGi1up"
      },
      "outputs": [],
      "source": [
        "from google.colab import runtime\n",
        "runtime.unassign()"
      ]
    }
  ],
  "metadata": {
    "colab": {
      "machine_shape": "hm",
      "provenance": []
    },
    "kernelspec": {
      "display_name": "Python 3",
      "name": "python3"
    },
    "language_info": {
      "name": "python"
    }
  },
  "nbformat": 4,
  "nbformat_minor": 0
}